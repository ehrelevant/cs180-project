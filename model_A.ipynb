{
 "cells": [
  {
   "cell_type": "markdown",
   "metadata": {
    "id": "woA1CiIO0PNR"
   },
   "source": [
    "# Model A: Support Vector Machine with features extracted using ViT\n",
    "\n",
    "This notebook is focused on training a **traditional machine learning model** with features extracted with a vision transformer (ViT) to solve the given image classification problem of identifying potato leaf diseases.\n",
    "\n",
    "Specifically, this notebook uses the model from https://huggingface.co/google/vit-base-patch16-224. This is a vision transformer model that was trained on 14 million images with nearly 22k classes at a resolution of 224x224, and fune-tuned on a dataset of 1 million images with 1000 classes at the same resolution.\n",
    "\n",
    "**Note that this vision transformer model is not trained in this notebook**, rather it is being utilized *in inference mode* as a method for extracting features from an image. Using the features obtained from this, a traditional supervised machine learning model, in the form of a Support Vector Machine (SVM), is trained to be able to classify potato diseases. There are 6 main classes in the dataset:\n",
    "- Healthy\n",
    "- Bacteria\n",
    "- Virus\n",
    "- Pest\n",
    "- Fungi\n",
    "- Phytopthora\n",
    "\n",
    "Through this method, the model is able to obtain an **accuracy and f1-score of above 80%**."
   ]
  },
  {
   "cell_type": "markdown",
   "metadata": {},
   "source": [
    "# Training"
   ]
  },
  {
   "cell_type": "markdown",
   "metadata": {
    "id": "JxM0o8OAMfwf"
   },
   "source": [
    "## Install Dependencies\n",
    "\n",
    "This section installs the needed dependencies to run this application in Google Colab. Note that, outside of Google Colab, these dependencies should be installed using the `requirements.txt` file instead."
   ]
  },
  {
   "cell_type": "code",
   "execution_count": 1,
   "metadata": {
    "colab": {
     "base_uri": "https://localhost:8080/"
    },
    "executionInfo": {
     "elapsed": 90610,
     "status": "ok",
     "timestamp": 1748152396865,
     "user": {
      "displayName": "Ehren Castillo",
      "userId": "02558479638299120997"
     },
     "user_tz": -480
    },
    "id": "yUHt3ww74qb8",
    "outputId": "5495d229-bd13-4d5f-99b1-62b2f90b1fe0"
   },
   "outputs": [],
   "source": [
    "# Only run in Google Colab\n",
    "# !pip install transformers torch torchvision datasets==3.5.1 joblib tqdm"
   ]
  },
  {
   "cell_type": "markdown",
   "metadata": {
    "id": "DQ3wGRUAMj-S"
   },
   "source": [
    "## Mount Drive\n",
    "This section mounts the drive folder containing the project files to the notebook. Note that cells from this section should not be run if it is being run locally."
   ]
  },
  {
   "cell_type": "code",
   "execution_count": 2,
   "metadata": {
    "colab": {
     "base_uri": "https://localhost:8080/"
    },
    "executionInfo": {
     "elapsed": 4330,
     "status": "ok",
     "timestamp": 1748178462109,
     "user": {
      "displayName": "Jacky John Abucay",
      "userId": "15964300466267869372"
     },
     "user_tz": -480
    },
    "id": "2alJt_fx7W74",
    "outputId": "82f54ce8-af4e-4d6a-9825-42d38d37f22d"
   },
   "outputs": [],
   "source": [
    "# Only run in Google Colab\n",
    "# from google.colab import drive\n",
    "# from google.colab import userdata\n",
    "\n",
    "# drive.mount('/content/drive', force_remount=True)"
   ]
  },
  {
   "cell_type": "markdown",
   "metadata": {
    "id": "U40cidyu2mZT"
   },
   "source": [
    "## Setup Code\n",
    "This section is primarily focused on setting up the necessary imports, variables, and functions for training the model."
   ]
  },
  {
   "cell_type": "markdown",
   "metadata": {
    "id": "vu0Q7u-_2xgf"
   },
   "source": [
    "### Setup Imports\n",
    "The cells below imports all the libraries necessary to train the model."
   ]
  },
  {
   "cell_type": "code",
   "execution_count": null,
   "metadata": {
    "executionInfo": {
     "elapsed": 4,
     "status": "ok",
     "timestamp": 1748155647660,
     "user": {
      "displayName": "Jacky John Abucay",
      "userId": "15964300466267869372"
     },
     "user_tz": -480
    },
    "id": "Q5_npRr23D99"
   },
   "outputs": [],
   "source": [
    "import os\n",
    "import cv2\n",
    "import numpy as np\n",
    "\n",
    "from transformers import ViTModel, ViTFeatureExtractor\n",
    "\n",
    "import torch\n",
    "from torchvision.transforms import (\n",
    "    Compose,\n",
    "    Normalize,\n",
    "    Resize,\n",
    "    ToTensor\n",
    ")\n",
    "from PIL import Image\n",
    "\n",
    "from sklearn.model_selection import train_test_split, GridSearchCV\n",
    "from sklearn.preprocessing import StandardScaler\n",
    "from sklearn.svm import SVC\n",
    "from sklearn.metrics import classification_report, f1_score, accuracy_score, ConfusionMatrixDisplay\n",
    "\n",
    "from tqdm import tqdm\n",
    "\n",
    "import matplotlib.pyplot as plt\n",
    "import seaborn as sns\n",
    "import pandas as pd"
   ]
  },
  {
   "cell_type": "markdown",
   "metadata": {
    "id": "lPGXQ2Bd3aS5"
   },
   "source": [
    "### Define constants\n",
    "The cell below defines some notable constants used for training the model. This includes the size of test set, the seed used for generating random data, and the input and output directories."
   ]
  },
  {
   "cell_type": "code",
   "execution_count": 4,
   "metadata": {
    "executionInfo": {
     "elapsed": 42,
     "status": "ok",
     "timestamp": 1748161256542,
     "user": {
      "displayName": "Jacky John Abucay",
      "userId": "15964300466267869372"
     },
     "user_tz": -480
    },
    "id": "xa_xBWP0FQNM"
   },
   "outputs": [],
   "source": [
    "# For Google Colab\n",
    "# SHARED_DRIVE_NAME = \"CS180 when the ooga is booga\"\n",
    "# DATA_DIR = f'/content/drive/Shareddrives/{SHARED_DRIVE_NAME}/potato_train_resized/train/'\n",
    "# OUTPUT_DIR = f'/content/drive/Shareddrives/{SHARED_DRIVE_NAME}/traditional'\n",
    "# TEST_DIR = f'/content/drive/Shareddrives/{SHARED_DRIVE_NAME}/potato_test/'\n",
    "# SHARED_DIR = f'/content/drive/Shareddrives/{SHARED_DRIVE_NAME}/'\n",
    "\n",
    "# For local\n",
    "DATA_DIR = 'potato_train/train/'\n",
    "OUTPUT_DIR = '.'\n",
    "TEST_DIR = 'potato_test/'\n",
    "SHARED_DIR = '.'\n",
    "\n",
    "TEST_SIZE = 0.2\n",
    "RANDOM_STATE = 80"
   ]
  },
  {
   "cell_type": "markdown",
   "metadata": {
    "id": "6nDkN16p3FrQ"
   },
   "source": [
    "### Setup ViT for image feature extraction\n",
    "\n"
   ]
  },
  {
   "cell_type": "code",
   "execution_count": 5,
   "metadata": {
    "colab": {
     "base_uri": "https://localhost:8080/"
    },
    "executionInfo": {
     "elapsed": 691,
     "status": "ok",
     "timestamp": 1748155651208,
     "user": {
      "displayName": "Jacky John Abucay",
      "userId": "15964300466267869372"
     },
     "user_tz": -480
    },
    "id": "EiCl0OHv7YoS",
    "outputId": "b66473fb-3277-493e-e4d3-10a74206c4c0"
   },
   "outputs": [
    {
     "name": "stderr",
     "output_type": "stream",
     "text": [
      "/home/ehren/programs/CS180/cs180-project/.venv/lib/python3.12/site-packages/transformers/models/vit/feature_extraction_vit.py:28: FutureWarning: The class ViTFeatureExtractor is deprecated and will be removed in version 5 of Transformers. Please use ViTImageProcessor instead.\n",
      "  warnings.warn(\n"
     ]
    }
   ],
   "source": [
    "model_id = 'google/vit-base-patch16-224-in21k'\n",
    "vit = ViTModel.from_pretrained(model_id)\n",
    "# Disable training for ViT since this is only being used for feature extraction\n",
    "vit.eval()\n",
    "\n",
    "feature_extractor = ViTFeatureExtractor.from_pretrained(model_id)"
   ]
  },
  {
   "cell_type": "markdown",
   "metadata": {
    "id": "_6QaQkXw3_ti"
   },
   "source": [
    "### Setup transforms for preprocessing\n",
    "\n",
    "The cell below sets up the transforms responsible for preprocessing and applying data augmentations to the training and test images.\n",
    "\n",
    "Note that no data augmentations are included in `training_transforms` besides `Resize`. Generally, this has produced a slightly better accuracy and f1-score."
   ]
  },
  {
   "cell_type": "code",
   "execution_count": 6,
   "metadata": {
    "executionInfo": {
     "elapsed": 5,
     "status": "ok",
     "timestamp": 1748155652523,
     "user": {
      "displayName": "Jacky John Abucay",
      "userId": "15964300466267869372"
     },
     "user_tz": -480
    },
    "id": "onyNdjy19Flc"
   },
   "outputs": [],
   "source": [
    "normalize = Normalize(mean=feature_extractor.image_mean, std=feature_extractor.image_std)\n",
    "size = (feature_extractor.size[\"height\"], feature_extractor.size[\"width\"])\n",
    "\n",
    "# Data augmentations are *supposed to be* placed here\n",
    "# Note, however, that no data augmentation is being done here outside of Resize\n",
    "training_transforms = Compose([\n",
    "    Resize(size),\n",
    "    ToTensor(),\n",
    "    normalize\n",
    "])\n",
    "\n",
    "inference_transforms = Compose([\n",
    "    Resize(size),\n",
    "    ToTensor(),\n",
    "    normalize\n",
    "])"
   ]
  },
  {
   "cell_type": "markdown",
   "metadata": {
    "id": "z4ng6DZh5uLh"
   },
   "source": [
    "### Setup feature extraction function\n",
    "\n",
    "The cell below sets up the function used for extracting features from an image. Note that it expects an image in BGR (since this is the default format of openCV) and the transforms to be used as arguments."
   ]
  },
  {
   "cell_type": "code",
   "execution_count": 7,
   "metadata": {
    "executionInfo": {
     "elapsed": 37,
     "status": "ok",
     "timestamp": 1748155654847,
     "user": {
      "displayName": "Jacky John Abucay",
      "userId": "15964300466267869372"
     },
     "user_tz": -480
    },
    "id": "j3ikmSlLKybw"
   },
   "outputs": [],
   "source": [
    "def extract_features(img_original, transforms):\n",
    "    # Note that OpenCV reads images with BGR by default\n",
    "    # Thus, we need to convert it to RGB since it may cause issues otherwise\n",
    "    img_rgb = cv2.cvtColor(img_original, cv2.COLOR_BGR2RGB)\n",
    "\n",
    "    # Get numpy array of image\n",
    "    img = Image.fromarray(img_rgb)\n",
    "\n",
    "    # Apply data augmentation and preprocessing transforms\n",
    "    # `unsqueeze(0)` prepends the batch size of `1`\n",
    "    # Technically, batching all the images would be faster\n",
    "    # but its a bit awkward to implement\n",
    "    img_tensor = transforms(img).unsqueeze(0)\n",
    "\n",
    "    # Disable gradient calculation, use inference mode\n",
    "    # The goal isn't to train, but to extract features\n",
    "    with torch.no_grad():\n",
    "        # Pass image through the pretrained vision transformer, get outputs\n",
    "        outputs = vit(img_tensor)\n",
    "\n",
    "        # Extracts features by getting the [CLS] token\n",
    "        # This is more or less a summary feature vector for the image\n",
    "        features = outputs.last_hidden_state[:, 0, :].squeeze().numpy()\n",
    "\n",
    "    # Returns the feature vector\n",
    "    return features"
   ]
  },
  {
   "cell_type": "markdown",
   "metadata": {
    "id": "tWuk7vUaMr-d"
   },
   "source": [
    "## Load Dataset\n",
    "\n",
    "This section loads the dataset of images and their labels."
   ]
  },
  {
   "cell_type": "code",
   "execution_count": 8,
   "metadata": {
    "executionInfo": {
     "elapsed": 33286,
     "status": "ok",
     "timestamp": 1748155689604,
     "user": {
      "displayName": "Jacky John Abucay",
      "userId": "15964300466267869372"
     },
     "user_tz": -480
    },
    "id": "eKK1Xke7-tmn"
   },
   "outputs": [],
   "source": [
    "categories = ['Bacteria', 'Fungi', 'Healthy', 'Pest', 'Phytopthora', 'Virus']\n",
    "num_labels = len(categories) # Number of unique labels\n",
    "\n",
    "images, labels = [], []\n",
    "\n",
    "for label, category in enumerate(categories):\n",
    "    category_dir = os.path.join(DATA_DIR, category)\n",
    "    for filename in os.listdir(category_dir):\n",
    "        if filename.lower().endswith(('.jpg', '.jpeg', '.png')):\n",
    "            img_path = os.path.join(category_dir, filename)\n",
    "            img = cv2.imread(img_path)\n",
    "            if img is not None:\n",
    "                images.append(img)\n",
    "                labels.append(label)\n",
    "\n",
    "images = np.array(images)\n",
    "labels = np.array(labels)"
   ]
  },
  {
   "cell_type": "markdown",
   "metadata": {
    "id": "codEng1K7A0y"
   },
   "source": [
    "## Train-test Split\n",
    "\n",
    "This section splits the dataset to train and test datasets. It then preprocesses and extracts the features from the images in each set. It also runs `StandardScaler` to further normalize features."
   ]
  },
  {
   "cell_type": "code",
   "execution_count": 9,
   "metadata": {
    "executionInfo": {
     "elapsed": 679,
     "status": "ok",
     "timestamp": 1748166213287,
     "user": {
      "displayName": "Jacky John Abucay",
      "userId": "15964300466267869372"
     },
     "user_tz": -480
    },
    "id": "_Lol2Iu9JycG"
   },
   "outputs": [],
   "source": [
    "X_train_raw, X_test_raw, y_train, y_test = train_test_split(images, labels, stratify=labels, test_size=TEST_SIZE, random_state=RANDOM_STATE)"
   ]
  },
  {
   "cell_type": "code",
   "execution_count": 11,
   "metadata": {
    "colab": {
     "base_uri": "https://localhost:8080/",
     "height": 81,
     "referenced_widgets": [
      "0f6fec329f1947378b45d914c05c4671",
      "1b2f63f02e3641c1b666744459ba93af",
      "e13404ead2774689a351966d48d27e8a",
      "fef3fd80943d4cf08dd705007a54a298",
      "44eff54d7e50438e8e3697daed03da73",
      "c8b24b787ac8434992a6244d76caf323",
      "46c047d8942f4485b6167f4c07f4f335",
      "ea0d580417fd4dcbad6fa07a914047ed",
      "1c57d02947dd4de399a83c90862deccb",
      "6ae17dfbb7134c74aac11879a3113ce9",
      "2a1ef9c3c0894bafbb3bcfbc41a02ec9",
      "a359815850db4d8aa09cd405666ed6e7",
      "8b7dd837fb724eac819aa39e21deba81",
      "fc6f72d2c1904a70a2df55047cf7e982",
      "9389d0724a674027bb2637f96db98e75",
      "477bde3484c14e8eb297d8876fbed1a0",
      "40054b90e9f94cb09de8451521652b3a",
      "ded71aebeb4e49699d953f97a844bf63",
      "95644e32a7fe4463888c60db70967e9f",
      "db343110be764ba6b2038fe8a4728c52",
      "b8609b57672d410a9a76be64b2deefa8",
      "c0723817470741faa8930865a7091797"
     ]
    },
    "executionInfo": {
     "elapsed": 2387816,
     "status": "ok",
     "timestamp": 1748168602824,
     "user": {
      "displayName": "Jacky John Abucay",
      "userId": "15964300466267869372"
     },
     "user_tz": -480
    },
    "id": "NVhvktvfJ28w",
    "outputId": "3e557d9a-e494-43a8-e664-b086c9b143f7"
   },
   "outputs": [
    {
     "name": "stderr",
     "output_type": "stream",
     "text": [
      "Extracting Training Features: 100%|██████████| 2165/2165 [13:19<00:00,  2.71it/s]\n",
      "Extracting Test Features: 100%|██████████| 542/542 [03:33<00:00,  2.54it/s]\n"
     ]
    }
   ],
   "source": [
    "X_train = [extract_features(img, training_transforms) for img in tqdm(X_train_raw, desc='Extracting Training Features')]\n",
    "X_test = [extract_features(img, inference_transforms) for img in tqdm(X_test_raw,  desc='Extracting Test Features')]"
   ]
  },
  {
   "cell_type": "code",
   "execution_count": 12,
   "metadata": {
    "executionInfo": {
     "elapsed": 43,
     "status": "ok",
     "timestamp": 1748168602871,
     "user": {
      "displayName": "Jacky John Abucay",
      "userId": "15964300466267869372"
     },
     "user_tz": -480
    },
    "id": "d2xF3XyUMa2o"
   },
   "outputs": [],
   "source": [
    "scaler = StandardScaler()\n",
    "X_train = scaler.fit_transform(X_train)\n",
    "X_test = scaler.transform(X_test)"
   ]
  },
  {
   "cell_type": "markdown",
   "metadata": {
    "id": "2Bylp8Be8ksR"
   },
   "source": [
    "## Hyperparameter Tuning & Training\n",
    "\n",
    "In this section, the `SVC` model is setup and put through hyperparameter tuning via `GridSearchCV` to find the best parameters and estimator."
   ]
  },
  {
   "cell_type": "code",
   "execution_count": 13,
   "metadata": {
    "executionInfo": {
     "elapsed": 6,
     "status": "ok",
     "timestamp": 1748163804589,
     "user": {
      "displayName": "Jacky John Abucay",
      "userId": "15964300466267869372"
     },
     "user_tz": -480
    },
    "id": "Fy-h05dnY9Mr"
   },
   "outputs": [],
   "source": [
    "# Note: linear and polynomial kernel will generally lose against rbf here\n",
    "# rbf will have higher peaks given specific hyperparameters\n",
    "param_grid = {\n",
    "    'C': [0.1, 0.5, 1, 5, 10, 100, 1000],\n",
    "    'gamma': [0.0001, 0.001, 'scale'],\n",
    "    'class_weight': [None, 'balanced']\n",
    "}"
   ]
  },
  {
   "cell_type": "code",
   "execution_count": 14,
   "metadata": {
    "colab": {
     "base_uri": "https://localhost:8080/",
     "height": 1000
    },
    "executionInfo": {
     "elapsed": 331528,
     "status": "ok",
     "timestamp": 1748164136118,
     "user": {
      "displayName": "Jacky John Abucay",
      "userId": "15964300466267869372"
     },
     "user_tz": -480
    },
    "id": "qfzPPHGfZGQq",
    "outputId": "25efbe60-3aa8-4611-eb90-bc5ac5e27f58"
   },
   "outputs": [
    {
     "name": "stdout",
     "output_type": "stream",
     "text": [
      "Fitting 5 folds for each of 42 candidates, totalling 210 fits\n",
      "[CV 1/5] END C=0.1, class_weight=None, gamma=0.0001;, score=0.338 total time=   2.1s\n",
      "[CV 2/5] END C=0.1, class_weight=None, gamma=0.0001;, score=0.346 total time=   1.2s\n",
      "[CV 3/5] END C=0.1, class_weight=None, gamma=0.0001;, score=0.325 total time=   2.0s\n",
      "[CV 4/5] END C=0.1, class_weight=None, gamma=0.0001;, score=0.326 total time=   2.1s\n",
      "[CV 5/5] END C=0.1, class_weight=None, gamma=0.0001;, score=0.356 total time=   2.1s\n",
      "[CV 1/5] END C=0.1, class_weight=None, gamma=0.001;, score=0.550 total time=   1.7s\n",
      "[CV 2/5] END C=0.1, class_weight=None, gamma=0.001;, score=0.570 total time=   1.8s\n",
      "[CV 3/5] END C=0.1, class_weight=None, gamma=0.001;, score=0.574 total time=   1.9s\n",
      "[CV 4/5] END C=0.1, class_weight=None, gamma=0.001;, score=0.556 total time=   2.0s\n",
      "[CV 5/5] END C=0.1, class_weight=None, gamma=0.001;, score=0.582 total time=   1.8s\n",
      "[CV 1/5] END C=0.1, class_weight=None, gamma=scale;, score=0.585 total time=   1.9s\n",
      "[CV 2/5] END C=0.1, class_weight=None, gamma=scale;, score=0.583 total time=   1.8s\n",
      "[CV 3/5] END C=0.1, class_weight=None, gamma=scale;, score=0.595 total time=   1.9s\n",
      "[CV 4/5] END C=0.1, class_weight=None, gamma=scale;, score=0.573 total time=   1.8s\n",
      "[CV 5/5] END C=0.1, class_weight=None, gamma=scale;, score=0.590 total time=   1.7s\n",
      "[CV 1/5] END C=0.1, class_weight=balanced, gamma=0.0001;, score=0.461 total time=   2.2s\n",
      "[CV 2/5] END C=0.1, class_weight=balanced, gamma=0.0001;, score=0.458 total time=   2.2s\n",
      "[CV 3/5] END C=0.1, class_weight=balanced, gamma=0.0001;, score=0.459 total time=   2.3s\n",
      "[CV 4/5] END C=0.1, class_weight=balanced, gamma=0.0001;, score=0.415 total time=   1.5s\n",
      "[CV 5/5] END C=0.1, class_weight=balanced, gamma=0.0001;, score=0.429 total time=   2.3s\n",
      "[CV 1/5] END C=0.1, class_weight=balanced, gamma=0.001;, score=0.646 total time=   2.1s\n",
      "[CV 2/5] END C=0.1, class_weight=balanced, gamma=0.001;, score=0.646 total time=   2.0s\n",
      "[CV 3/5] END C=0.1, class_weight=balanced, gamma=0.001;, score=0.652 total time=   1.9s\n",
      "[CV 4/5] END C=0.1, class_weight=balanced, gamma=0.001;, score=0.628 total time=   1.9s\n",
      "[CV 5/5] END C=0.1, class_weight=balanced, gamma=0.001;, score=0.644 total time=   1.8s\n",
      "[CV 1/5] END C=0.1, class_weight=balanced, gamma=scale;, score=0.650 total time=   1.9s\n",
      "[CV 2/5] END C=0.1, class_weight=balanced, gamma=scale;, score=0.632 total time=   1.9s\n",
      "[CV 3/5] END C=0.1, class_weight=balanced, gamma=scale;, score=0.651 total time=   1.9s\n",
      "[CV 4/5] END C=0.1, class_weight=balanced, gamma=scale;, score=0.616 total time=   2.2s\n",
      "[CV 5/5] END C=0.1, class_weight=balanced, gamma=scale;, score=0.623 total time=   1.9s\n",
      "[CV 1/5] END C=0.5, class_weight=None, gamma=0.0001;, score=0.560 total time=   1.6s\n",
      "[CV 2/5] END C=0.5, class_weight=None, gamma=0.0001;, score=0.566 total time=   1.6s\n",
      "[CV 3/5] END C=0.5, class_weight=None, gamma=0.0001;, score=0.584 total time=   1.6s\n",
      "[CV 4/5] END C=0.5, class_weight=None, gamma=0.0001;, score=0.546 total time=   1.6s\n",
      "[CV 5/5] END C=0.5, class_weight=None, gamma=0.0001;, score=0.591 total time=   1.7s\n",
      "[CV 1/5] END C=0.5, class_weight=None, gamma=0.001;, score=0.790 total time=   0.8s\n",
      "[CV 2/5] END C=0.5, class_weight=None, gamma=0.001;, score=0.768 total time=   1.4s\n",
      "[CV 3/5] END C=0.5, class_weight=None, gamma=0.001;, score=0.750 total time=   1.8s\n",
      "[CV 4/5] END C=0.5, class_weight=None, gamma=0.001;, score=0.742 total time=   1.7s\n",
      "[CV 5/5] END C=0.5, class_weight=None, gamma=0.001;, score=0.778 total time=   1.5s\n",
      "[CV 1/5] END C=0.5, class_weight=None, gamma=scale;, score=0.791 total time=   1.5s\n",
      "[CV 2/5] END C=0.5, class_weight=None, gamma=scale;, score=0.770 total time=   1.6s\n",
      "[CV 3/5] END C=0.5, class_weight=None, gamma=scale;, score=0.755 total time=   1.9s\n",
      "[CV 4/5] END C=0.5, class_weight=None, gamma=scale;, score=0.741 total time=   1.5s\n",
      "[CV 5/5] END C=0.5, class_weight=None, gamma=scale;, score=0.781 total time=   1.7s\n",
      "[CV 1/5] END C=0.5, class_weight=balanced, gamma=0.0001;, score=0.667 total time=   2.0s\n",
      "[CV 2/5] END C=0.5, class_weight=balanced, gamma=0.0001;, score=0.655 total time=   1.7s\n",
      "[CV 3/5] END C=0.5, class_weight=balanced, gamma=0.0001;, score=0.705 total time=   1.7s\n",
      "[CV 4/5] END C=0.5, class_weight=balanced, gamma=0.0001;, score=0.642 total time=   1.8s\n",
      "[CV 5/5] END C=0.5, class_weight=balanced, gamma=0.0001;, score=0.659 total time=   1.7s\n",
      "[CV 1/5] END C=0.5, class_weight=balanced, gamma=0.001;, score=0.758 total time=   1.5s\n",
      "[CV 2/5] END C=0.5, class_weight=balanced, gamma=0.001;, score=0.753 total time=   1.5s\n",
      "[CV 3/5] END C=0.5, class_weight=balanced, gamma=0.001;, score=0.778 total time=   1.5s\n",
      "[CV 4/5] END C=0.5, class_weight=balanced, gamma=0.001;, score=0.741 total time=   1.6s\n",
      "[CV 5/5] END C=0.5, class_weight=balanced, gamma=0.001;, score=0.763 total time=   1.5s\n",
      "[CV 1/5] END C=0.5, class_weight=balanced, gamma=scale;, score=0.760 total time=   1.6s\n",
      "[CV 2/5] END C=0.5, class_weight=balanced, gamma=scale;, score=0.741 total time=   1.6s\n",
      "[CV 3/5] END C=0.5, class_weight=balanced, gamma=scale;, score=0.779 total time=   1.8s\n",
      "[CV 4/5] END C=0.5, class_weight=balanced, gamma=scale;, score=0.747 total time=   1.9s\n",
      "[CV 5/5] END C=0.5, class_weight=balanced, gamma=scale;, score=0.762 total time=   1.9s\n",
      "[CV 1/5] END C=1, class_weight=None, gamma=0.0001;, score=0.744 total time=   1.6s\n",
      "[CV 2/5] END C=1, class_weight=None, gamma=0.0001;, score=0.729 total time=   1.6s\n",
      "[CV 3/5] END C=1, class_weight=None, gamma=0.0001;, score=0.722 total time=   1.5s\n",
      "[CV 4/5] END C=1, class_weight=None, gamma=0.0001;, score=0.699 total time=   1.5s\n",
      "[CV 5/5] END C=1, class_weight=None, gamma=0.0001;, score=0.728 total time=   1.4s\n",
      "[CV 1/5] END C=1, class_weight=None, gamma=0.001;, score=0.822 total time=   1.2s\n",
      "[CV 2/5] END C=1, class_weight=None, gamma=0.001;, score=0.782 total time=   1.2s\n",
      "[CV 3/5] END C=1, class_weight=None, gamma=0.001;, score=0.792 total time=   1.3s\n",
      "[CV 4/5] END C=1, class_weight=None, gamma=0.001;, score=0.797 total time=   1.4s\n",
      "[CV 5/5] END C=1, class_weight=None, gamma=0.001;, score=0.814 total time=   1.5s\n",
      "[CV 1/5] END C=1, class_weight=None, gamma=scale;, score=0.829 total time=   1.8s\n",
      "[CV 2/5] END C=1, class_weight=None, gamma=scale;, score=0.787 total time=   1.5s\n",
      "[CV 3/5] END C=1, class_weight=None, gamma=scale;, score=0.794 total time=   1.7s\n",
      "[CV 4/5] END C=1, class_weight=None, gamma=scale;, score=0.801 total time=   1.3s\n",
      "[CV 5/5] END C=1, class_weight=None, gamma=scale;, score=0.819 total time=   1.4s\n",
      "[CV 1/5] END C=1, class_weight=balanced, gamma=0.0001;, score=0.705 total time=   0.7s\n",
      "[CV 2/5] END C=1, class_weight=balanced, gamma=0.0001;, score=0.711 total time=   1.4s\n",
      "[CV 3/5] END C=1, class_weight=balanced, gamma=0.0001;, score=0.738 total time=   1.4s\n",
      "[CV 4/5] END C=1, class_weight=balanced, gamma=0.0001;, score=0.678 total time=   1.3s\n",
      "[CV 5/5] END C=1, class_weight=balanced, gamma=0.0001;, score=0.723 total time=   1.4s\n",
      "[CV 1/5] END C=1, class_weight=balanced, gamma=0.001;, score=0.796 total time=   1.3s\n",
      "[CV 2/5] END C=1, class_weight=balanced, gamma=0.001;, score=0.769 total time=   1.3s\n",
      "[CV 3/5] END C=1, class_weight=balanced, gamma=0.001;, score=0.806 total time=   1.2s\n",
      "[CV 4/5] END C=1, class_weight=balanced, gamma=0.001;, score=0.788 total time=   1.2s\n",
      "[CV 5/5] END C=1, class_weight=balanced, gamma=0.001;, score=0.804 total time=   1.3s\n",
      "[CV 1/5] END C=1, class_weight=balanced, gamma=scale;, score=0.810 total time=   1.4s\n",
      "[CV 2/5] END C=1, class_weight=balanced, gamma=scale;, score=0.776 total time=   1.4s\n",
      "[CV 3/5] END C=1, class_weight=balanced, gamma=scale;, score=0.805 total time=   1.6s\n",
      "[CV 4/5] END C=1, class_weight=balanced, gamma=scale;, score=0.798 total time=   1.4s\n",
      "[CV 5/5] END C=1, class_weight=balanced, gamma=scale;, score=0.811 total time=   1.5s\n",
      "[CV 1/5] END C=5, class_weight=None, gamma=0.0001;, score=0.812 total time=   1.1s\n",
      "[CV 2/5] END C=5, class_weight=None, gamma=0.0001;, score=0.773 total time=   1.3s\n",
      "[CV 3/5] END C=5, class_weight=None, gamma=0.0001;, score=0.784 total time=   1.7s\n",
      "[CV 4/5] END C=5, class_weight=None, gamma=0.0001;, score=0.773 total time=   1.3s\n",
      "[CV 5/5] END C=5, class_weight=None, gamma=0.0001;, score=0.814 total time=   1.2s\n",
      "[CV 1/5] END C=5, class_weight=None, gamma=0.001;, score=0.857 total time=   1.3s\n",
      "[CV 2/5] END C=5, class_weight=None, gamma=0.001;, score=0.812 total time=   1.4s\n",
      "[CV 3/5] END C=5, class_weight=None, gamma=0.001;, score=0.823 total time=   1.4s\n",
      "[CV 4/5] END C=5, class_weight=None, gamma=0.001;, score=0.823 total time=   1.4s\n",
      "[CV 5/5] END C=5, class_weight=None, gamma=0.001;, score=0.840 total time=   1.0s\n",
      "[CV 1/5] END C=5, class_weight=None, gamma=scale;, score=0.854 total time=   1.8s\n",
      "[CV 2/5] END C=5, class_weight=None, gamma=scale;, score=0.810 total time=   1.6s\n",
      "[CV 3/5] END C=5, class_weight=None, gamma=scale;, score=0.821 total time=   1.6s\n",
      "[CV 4/5] END C=5, class_weight=None, gamma=scale;, score=0.824 total time=   1.5s\n",
      "[CV 5/5] END C=5, class_weight=None, gamma=scale;, score=0.843 total time=   1.8s\n",
      "[CV 1/5] END C=5, class_weight=balanced, gamma=0.0001;, score=0.788 total time=   1.1s\n",
      "[CV 2/5] END C=5, class_weight=balanced, gamma=0.0001;, score=0.770 total time=   1.1s\n",
      "[CV 3/5] END C=5, class_weight=balanced, gamma=0.0001;, score=0.790 total time=   1.3s\n",
      "[CV 4/5] END C=5, class_weight=balanced, gamma=0.0001;, score=0.769 total time=   1.0s\n",
      "[CV 5/5] END C=5, class_weight=balanced, gamma=0.0001;, score=0.784 total time=   1.1s\n",
      "[CV 1/5] END C=5, class_weight=balanced, gamma=0.001;, score=0.857 total time=   1.4s\n",
      "[CV 2/5] END C=5, class_weight=balanced, gamma=0.001;, score=0.815 total time=   1.3s\n",
      "[CV 3/5] END C=5, class_weight=balanced, gamma=0.001;, score=0.816 total time=   1.4s\n",
      "[CV 4/5] END C=5, class_weight=balanced, gamma=0.001;, score=0.816 total time=   1.4s\n",
      "[CV 5/5] END C=5, class_weight=balanced, gamma=0.001;, score=0.844 total time=   1.4s\n",
      "[CV 1/5] END C=5, class_weight=balanced, gamma=scale;, score=0.852 total time=   1.6s\n",
      "[CV 2/5] END C=5, class_weight=balanced, gamma=scale;, score=0.817 total time=   1.9s\n",
      "[CV 3/5] END C=5, class_weight=balanced, gamma=scale;, score=0.821 total time=   1.6s\n",
      "[CV 4/5] END C=5, class_weight=balanced, gamma=scale;, score=0.817 total time=   1.9s\n",
      "[CV 5/5] END C=5, class_weight=balanced, gamma=scale;, score=0.847 total time=   1.8s\n",
      "[CV 1/5] END C=10, class_weight=None, gamma=0.0001;, score=0.838 total time=   0.9s\n",
      "[CV 2/5] END C=10, class_weight=None, gamma=0.0001;, score=0.786 total time=   1.0s\n",
      "[CV 3/5] END C=10, class_weight=None, gamma=0.0001;, score=0.793 total time=   0.4s\n",
      "[CV 4/5] END C=10, class_weight=None, gamma=0.0001;, score=0.798 total time=   1.0s\n",
      "[CV 5/5] END C=10, class_weight=None, gamma=0.0001;, score=0.823 total time=   1.0s\n",
      "[CV 1/5] END C=10, class_weight=None, gamma=0.001;, score=0.859 total time=   1.4s\n",
      "[CV 2/5] END C=10, class_weight=None, gamma=0.001;, score=0.812 total time=   1.5s\n",
      "[CV 3/5] END C=10, class_weight=None, gamma=0.001;, score=0.818 total time=   1.4s\n",
      "[CV 4/5] END C=10, class_weight=None, gamma=0.001;, score=0.812 total time=   1.4s\n",
      "[CV 5/5] END C=10, class_weight=None, gamma=0.001;, score=0.838 total time=   1.6s\n",
      "[CV 1/5] END C=10, class_weight=None, gamma=scale;, score=0.852 total time=   1.8s\n",
      "[CV 2/5] END C=10, class_weight=None, gamma=scale;, score=0.814 total time=   1.6s\n",
      "[CV 3/5] END C=10, class_weight=None, gamma=scale;, score=0.824 total time=   1.6s\n",
      "[CV 4/5] END C=10, class_weight=None, gamma=scale;, score=0.817 total time=   1.8s\n",
      "[CV 5/5] END C=10, class_weight=None, gamma=scale;, score=0.840 total time=   1.7s\n",
      "[CV 1/5] END C=10, class_weight=balanced, gamma=0.0001;, score=0.821 total time=   1.1s\n",
      "[CV 2/5] END C=10, class_weight=balanced, gamma=0.0001;, score=0.785 total time=   1.1s\n",
      "[CV 3/5] END C=10, class_weight=balanced, gamma=0.0001;, score=0.782 total time=   1.1s\n",
      "[CV 4/5] END C=10, class_weight=balanced, gamma=0.0001;, score=0.782 total time=   0.9s\n",
      "[CV 5/5] END C=10, class_weight=balanced, gamma=0.0001;, score=0.804 total time=   0.9s\n",
      "[CV 1/5] END C=10, class_weight=balanced, gamma=0.001;, score=0.859 total time=   1.3s\n",
      "[CV 2/5] END C=10, class_weight=balanced, gamma=0.001;, score=0.817 total time=   1.4s\n",
      "[CV 3/5] END C=10, class_weight=balanced, gamma=0.001;, score=0.816 total time=   1.3s\n",
      "[CV 4/5] END C=10, class_weight=balanced, gamma=0.001;, score=0.814 total time=   1.3s\n",
      "[CV 5/5] END C=10, class_weight=balanced, gamma=0.001;, score=0.838 total time=   1.4s\n",
      "[CV 1/5] END C=10, class_weight=balanced, gamma=scale;, score=0.854 total time=   1.6s\n",
      "[CV 2/5] END C=10, class_weight=balanced, gamma=scale;, score=0.814 total time=   0.9s\n",
      "[CV 3/5] END C=10, class_weight=balanced, gamma=scale;, score=0.824 total time=   1.5s\n",
      "[CV 4/5] END C=10, class_weight=balanced, gamma=scale;, score=0.814 total time=   1.6s\n",
      "[CV 5/5] END C=10, class_weight=balanced, gamma=scale;, score=0.840 total time=   1.7s\n",
      "[CV 1/5] END C=100, class_weight=None, gamma=0.0001;, score=0.845 total time=   0.8s\n",
      "[CV 2/5] END C=100, class_weight=None, gamma=0.0001;, score=0.785 total time=   0.9s\n",
      "[CV 3/5] END C=100, class_weight=None, gamma=0.0001;, score=0.780 total time=   0.8s\n",
      "[CV 4/5] END C=100, class_weight=None, gamma=0.0001;, score=0.797 total time=   0.9s\n",
      "[CV 5/5] END C=100, class_weight=None, gamma=0.0001;, score=0.810 total time=   0.9s\n",
      "[CV 1/5] END C=100, class_weight=None, gamma=0.001;, score=0.861 total time=   1.3s\n",
      "[CV 2/5] END C=100, class_weight=None, gamma=0.001;, score=0.812 total time=   1.3s\n",
      "[CV 3/5] END C=100, class_weight=None, gamma=0.001;, score=0.816 total time=   1.5s\n",
      "[CV 4/5] END C=100, class_weight=None, gamma=0.001;, score=0.814 total time=   1.3s\n",
      "[CV 5/5] END C=100, class_weight=None, gamma=0.001;, score=0.835 total time=   1.3s\n",
      "[CV 1/5] END C=100, class_weight=None, gamma=scale;, score=0.852 total time=   1.5s\n",
      "[CV 2/5] END C=100, class_weight=None, gamma=scale;, score=0.814 total time=   1.6s\n",
      "[CV 3/5] END C=100, class_weight=None, gamma=scale;, score=0.821 total time=   1.6s\n",
      "[CV 4/5] END C=100, class_weight=None, gamma=scale;, score=0.817 total time=   1.7s\n",
      "[CV 5/5] END C=100, class_weight=None, gamma=scale;, score=0.840 total time=   2.0s\n",
      "[CV 1/5] END C=100, class_weight=balanced, gamma=0.0001;, score=0.840 total time=   1.0s\n",
      "[CV 2/5] END C=100, class_weight=balanced, gamma=0.0001;, score=0.787 total time=   1.0s\n",
      "[CV 3/5] END C=100, class_weight=balanced, gamma=0.0001;, score=0.778 total time=   0.9s\n",
      "[CV 4/5] END C=100, class_weight=balanced, gamma=0.0001;, score=0.800 total time=   0.9s\n",
      "[CV 5/5] END C=100, class_weight=balanced, gamma=0.0001;, score=0.805 total time=   0.9s\n",
      "[CV 1/5] END C=100, class_weight=balanced, gamma=0.001;, score=0.854 total time=   1.4s\n",
      "[CV 2/5] END C=100, class_weight=balanced, gamma=0.001;, score=0.812 total time=   0.8s\n",
      "[CV 3/5] END C=100, class_weight=balanced, gamma=0.001;, score=0.814 total time=   1.4s\n",
      "[CV 4/5] END C=100, class_weight=balanced, gamma=0.001;, score=0.812 total time=   1.5s\n",
      "[CV 5/5] END C=100, class_weight=balanced, gamma=0.001;, score=0.838 total time=   1.7s\n",
      "[CV 1/5] END C=100, class_weight=balanced, gamma=scale;, score=0.854 total time=   1.8s\n",
      "[CV 2/5] END C=100, class_weight=balanced, gamma=scale;, score=0.814 total time=   1.6s\n",
      "[CV 3/5] END C=100, class_weight=balanced, gamma=scale;, score=0.819 total time=   1.6s\n",
      "[CV 4/5] END C=100, class_weight=balanced, gamma=scale;, score=0.814 total time=   1.6s\n",
      "[CV 5/5] END C=100, class_weight=balanced, gamma=scale;, score=0.838 total time=   1.6s\n",
      "[CV 1/5] END C=1000, class_weight=None, gamma=0.0001;, score=0.835 total time=   0.9s\n",
      "[CV 2/5] END C=1000, class_weight=None, gamma=0.0001;, score=0.780 total time=   1.0s\n",
      "[CV 3/5] END C=1000, class_weight=None, gamma=0.0001;, score=0.788 total time=   0.9s\n",
      "[CV 4/5] END C=1000, class_weight=None, gamma=0.0001;, score=0.783 total time=   0.9s\n",
      "[CV 5/5] END C=1000, class_weight=None, gamma=0.0001;, score=0.812 total time=   0.9s\n",
      "[CV 1/5] END C=1000, class_weight=None, gamma=0.001;, score=0.861 total time=   1.4s\n",
      "[CV 2/5] END C=1000, class_weight=None, gamma=0.001;, score=0.812 total time=   1.4s\n",
      "[CV 3/5] END C=1000, class_weight=None, gamma=0.001;, score=0.816 total time=   1.3s\n",
      "[CV 4/5] END C=1000, class_weight=None, gamma=0.001;, score=0.814 total time=   1.3s\n",
      "[CV 5/5] END C=1000, class_weight=None, gamma=0.001;, score=0.835 total time=   1.4s\n",
      "[CV 1/5] END C=1000, class_weight=None, gamma=scale;, score=0.852 total time=   1.6s\n",
      "[CV 2/5] END C=1000, class_weight=None, gamma=scale;, score=0.814 total time=   1.6s\n",
      "[CV 3/5] END C=1000, class_weight=None, gamma=scale;, score=0.821 total time=   1.5s\n",
      "[CV 4/5] END C=1000, class_weight=None, gamma=scale;, score=0.817 total time=   1.6s\n",
      "[CV 5/5] END C=1000, class_weight=None, gamma=scale;, score=0.840 total time=   0.9s\n",
      "[CV 1/5] END C=1000, class_weight=balanced, gamma=0.0001;, score=0.835 total time=   0.9s\n",
      "[CV 2/5] END C=1000, class_weight=balanced, gamma=0.0001;, score=0.781 total time=   0.9s\n",
      "[CV 3/5] END C=1000, class_weight=balanced, gamma=0.0001;, score=0.783 total time=   0.8s\n",
      "[CV 4/5] END C=1000, class_weight=balanced, gamma=0.0001;, score=0.784 total time=   0.9s\n",
      "[CV 5/5] END C=1000, class_weight=balanced, gamma=0.0001;, score=0.810 total time=   0.8s\n",
      "[CV 1/5] END C=1000, class_weight=balanced, gamma=0.001;, score=0.854 total time=   1.3s\n",
      "[CV 2/5] END C=1000, class_weight=balanced, gamma=0.001;, score=0.812 total time=   1.4s\n",
      "[CV 3/5] END C=1000, class_weight=balanced, gamma=0.001;, score=0.814 total time=   1.4s\n",
      "[CV 4/5] END C=1000, class_weight=balanced, gamma=0.001;, score=0.812 total time=   1.4s\n",
      "[CV 5/5] END C=1000, class_weight=balanced, gamma=0.001;, score=0.838 total time=   1.4s\n",
      "[CV 1/5] END C=1000, class_weight=balanced, gamma=scale;, score=0.854 total time=   1.6s\n",
      "[CV 2/5] END C=1000, class_weight=balanced, gamma=scale;, score=0.814 total time=   1.6s\n",
      "[CV 3/5] END C=1000, class_weight=balanced, gamma=scale;, score=0.819 total time=   1.5s\n",
      "[CV 4/5] END C=1000, class_weight=balanced, gamma=scale;, score=0.814 total time=   1.6s\n",
      "[CV 5/5] END C=1000, class_weight=balanced, gamma=scale;, score=0.838 total time=   1.5s\n"
     ]
    },
    {
     "data": {
      "text/html": [
       "<style>#sk-container-id-1 {\n",
       "  /* Definition of color scheme common for light and dark mode */\n",
       "  --sklearn-color-text: #000;\n",
       "  --sklearn-color-text-muted: #666;\n",
       "  --sklearn-color-line: gray;\n",
       "  /* Definition of color scheme for unfitted estimators */\n",
       "  --sklearn-color-unfitted-level-0: #fff5e6;\n",
       "  --sklearn-color-unfitted-level-1: #f6e4d2;\n",
       "  --sklearn-color-unfitted-level-2: #ffe0b3;\n",
       "  --sklearn-color-unfitted-level-3: chocolate;\n",
       "  /* Definition of color scheme for fitted estimators */\n",
       "  --sklearn-color-fitted-level-0: #f0f8ff;\n",
       "  --sklearn-color-fitted-level-1: #d4ebff;\n",
       "  --sklearn-color-fitted-level-2: #b3dbfd;\n",
       "  --sklearn-color-fitted-level-3: cornflowerblue;\n",
       "\n",
       "  /* Specific color for light theme */\n",
       "  --sklearn-color-text-on-default-background: var(--sg-text-color, var(--theme-code-foreground, var(--jp-content-font-color1, black)));\n",
       "  --sklearn-color-background: var(--sg-background-color, var(--theme-background, var(--jp-layout-color0, white)));\n",
       "  --sklearn-color-border-box: var(--sg-text-color, var(--theme-code-foreground, var(--jp-content-font-color1, black)));\n",
       "  --sklearn-color-icon: #696969;\n",
       "\n",
       "  @media (prefers-color-scheme: dark) {\n",
       "    /* Redefinition of color scheme for dark theme */\n",
       "    --sklearn-color-text-on-default-background: var(--sg-text-color, var(--theme-code-foreground, var(--jp-content-font-color1, white)));\n",
       "    --sklearn-color-background: var(--sg-background-color, var(--theme-background, var(--jp-layout-color0, #111)));\n",
       "    --sklearn-color-border-box: var(--sg-text-color, var(--theme-code-foreground, var(--jp-content-font-color1, white)));\n",
       "    --sklearn-color-icon: #878787;\n",
       "  }\n",
       "}\n",
       "\n",
       "#sk-container-id-1 {\n",
       "  color: var(--sklearn-color-text);\n",
       "}\n",
       "\n",
       "#sk-container-id-1 pre {\n",
       "  padding: 0;\n",
       "}\n",
       "\n",
       "#sk-container-id-1 input.sk-hidden--visually {\n",
       "  border: 0;\n",
       "  clip: rect(1px 1px 1px 1px);\n",
       "  clip: rect(1px, 1px, 1px, 1px);\n",
       "  height: 1px;\n",
       "  margin: -1px;\n",
       "  overflow: hidden;\n",
       "  padding: 0;\n",
       "  position: absolute;\n",
       "  width: 1px;\n",
       "}\n",
       "\n",
       "#sk-container-id-1 div.sk-dashed-wrapped {\n",
       "  border: 1px dashed var(--sklearn-color-line);\n",
       "  margin: 0 0.4em 0.5em 0.4em;\n",
       "  box-sizing: border-box;\n",
       "  padding-bottom: 0.4em;\n",
       "  background-color: var(--sklearn-color-background);\n",
       "}\n",
       "\n",
       "#sk-container-id-1 div.sk-container {\n",
       "  /* jupyter's `normalize.less` sets `[hidden] { display: none; }`\n",
       "     but bootstrap.min.css set `[hidden] { display: none !important; }`\n",
       "     so we also need the `!important` here to be able to override the\n",
       "     default hidden behavior on the sphinx rendered scikit-learn.org.\n",
       "     See: https://github.com/scikit-learn/scikit-learn/issues/21755 */\n",
       "  display: inline-block !important;\n",
       "  position: relative;\n",
       "}\n",
       "\n",
       "#sk-container-id-1 div.sk-text-repr-fallback {\n",
       "  display: none;\n",
       "}\n",
       "\n",
       "div.sk-parallel-item,\n",
       "div.sk-serial,\n",
       "div.sk-item {\n",
       "  /* draw centered vertical line to link estimators */\n",
       "  background-image: linear-gradient(var(--sklearn-color-text-on-default-background), var(--sklearn-color-text-on-default-background));\n",
       "  background-size: 2px 100%;\n",
       "  background-repeat: no-repeat;\n",
       "  background-position: center center;\n",
       "}\n",
       "\n",
       "/* Parallel-specific style estimator block */\n",
       "\n",
       "#sk-container-id-1 div.sk-parallel-item::after {\n",
       "  content: \"\";\n",
       "  width: 100%;\n",
       "  border-bottom: 2px solid var(--sklearn-color-text-on-default-background);\n",
       "  flex-grow: 1;\n",
       "}\n",
       "\n",
       "#sk-container-id-1 div.sk-parallel {\n",
       "  display: flex;\n",
       "  align-items: stretch;\n",
       "  justify-content: center;\n",
       "  background-color: var(--sklearn-color-background);\n",
       "  position: relative;\n",
       "}\n",
       "\n",
       "#sk-container-id-1 div.sk-parallel-item {\n",
       "  display: flex;\n",
       "  flex-direction: column;\n",
       "}\n",
       "\n",
       "#sk-container-id-1 div.sk-parallel-item:first-child::after {\n",
       "  align-self: flex-end;\n",
       "  width: 50%;\n",
       "}\n",
       "\n",
       "#sk-container-id-1 div.sk-parallel-item:last-child::after {\n",
       "  align-self: flex-start;\n",
       "  width: 50%;\n",
       "}\n",
       "\n",
       "#sk-container-id-1 div.sk-parallel-item:only-child::after {\n",
       "  width: 0;\n",
       "}\n",
       "\n",
       "/* Serial-specific style estimator block */\n",
       "\n",
       "#sk-container-id-1 div.sk-serial {\n",
       "  display: flex;\n",
       "  flex-direction: column;\n",
       "  align-items: center;\n",
       "  background-color: var(--sklearn-color-background);\n",
       "  padding-right: 1em;\n",
       "  padding-left: 1em;\n",
       "}\n",
       "\n",
       "\n",
       "/* Toggleable style: style used for estimator/Pipeline/ColumnTransformer box that is\n",
       "clickable and can be expanded/collapsed.\n",
       "- Pipeline and ColumnTransformer use this feature and define the default style\n",
       "- Estimators will overwrite some part of the style using the `sk-estimator` class\n",
       "*/\n",
       "\n",
       "/* Pipeline and ColumnTransformer style (default) */\n",
       "\n",
       "#sk-container-id-1 div.sk-toggleable {\n",
       "  /* Default theme specific background. It is overwritten whether we have a\n",
       "  specific estimator or a Pipeline/ColumnTransformer */\n",
       "  background-color: var(--sklearn-color-background);\n",
       "}\n",
       "\n",
       "/* Toggleable label */\n",
       "#sk-container-id-1 label.sk-toggleable__label {\n",
       "  cursor: pointer;\n",
       "  display: flex;\n",
       "  width: 100%;\n",
       "  margin-bottom: 0;\n",
       "  padding: 0.5em;\n",
       "  box-sizing: border-box;\n",
       "  text-align: center;\n",
       "  align-items: start;\n",
       "  justify-content: space-between;\n",
       "  gap: 0.5em;\n",
       "}\n",
       "\n",
       "#sk-container-id-1 label.sk-toggleable__label .caption {\n",
       "  font-size: 0.6rem;\n",
       "  font-weight: lighter;\n",
       "  color: var(--sklearn-color-text-muted);\n",
       "}\n",
       "\n",
       "#sk-container-id-1 label.sk-toggleable__label-arrow:before {\n",
       "  /* Arrow on the left of the label */\n",
       "  content: \"▸\";\n",
       "  float: left;\n",
       "  margin-right: 0.25em;\n",
       "  color: var(--sklearn-color-icon);\n",
       "}\n",
       "\n",
       "#sk-container-id-1 label.sk-toggleable__label-arrow:hover:before {\n",
       "  color: var(--sklearn-color-text);\n",
       "}\n",
       "\n",
       "/* Toggleable content - dropdown */\n",
       "\n",
       "#sk-container-id-1 div.sk-toggleable__content {\n",
       "  max-height: 0;\n",
       "  max-width: 0;\n",
       "  overflow: hidden;\n",
       "  text-align: left;\n",
       "  /* unfitted */\n",
       "  background-color: var(--sklearn-color-unfitted-level-0);\n",
       "}\n",
       "\n",
       "#sk-container-id-1 div.sk-toggleable__content.fitted {\n",
       "  /* fitted */\n",
       "  background-color: var(--sklearn-color-fitted-level-0);\n",
       "}\n",
       "\n",
       "#sk-container-id-1 div.sk-toggleable__content pre {\n",
       "  margin: 0.2em;\n",
       "  border-radius: 0.25em;\n",
       "  color: var(--sklearn-color-text);\n",
       "  /* unfitted */\n",
       "  background-color: var(--sklearn-color-unfitted-level-0);\n",
       "}\n",
       "\n",
       "#sk-container-id-1 div.sk-toggleable__content.fitted pre {\n",
       "  /* unfitted */\n",
       "  background-color: var(--sklearn-color-fitted-level-0);\n",
       "}\n",
       "\n",
       "#sk-container-id-1 input.sk-toggleable__control:checked~div.sk-toggleable__content {\n",
       "  /* Expand drop-down */\n",
       "  max-height: 200px;\n",
       "  max-width: 100%;\n",
       "  overflow: auto;\n",
       "}\n",
       "\n",
       "#sk-container-id-1 input.sk-toggleable__control:checked~label.sk-toggleable__label-arrow:before {\n",
       "  content: \"▾\";\n",
       "}\n",
       "\n",
       "/* Pipeline/ColumnTransformer-specific style */\n",
       "\n",
       "#sk-container-id-1 div.sk-label input.sk-toggleable__control:checked~label.sk-toggleable__label {\n",
       "  color: var(--sklearn-color-text);\n",
       "  background-color: var(--sklearn-color-unfitted-level-2);\n",
       "}\n",
       "\n",
       "#sk-container-id-1 div.sk-label.fitted input.sk-toggleable__control:checked~label.sk-toggleable__label {\n",
       "  background-color: var(--sklearn-color-fitted-level-2);\n",
       "}\n",
       "\n",
       "/* Estimator-specific style */\n",
       "\n",
       "/* Colorize estimator box */\n",
       "#sk-container-id-1 div.sk-estimator input.sk-toggleable__control:checked~label.sk-toggleable__label {\n",
       "  /* unfitted */\n",
       "  background-color: var(--sklearn-color-unfitted-level-2);\n",
       "}\n",
       "\n",
       "#sk-container-id-1 div.sk-estimator.fitted input.sk-toggleable__control:checked~label.sk-toggleable__label {\n",
       "  /* fitted */\n",
       "  background-color: var(--sklearn-color-fitted-level-2);\n",
       "}\n",
       "\n",
       "#sk-container-id-1 div.sk-label label.sk-toggleable__label,\n",
       "#sk-container-id-1 div.sk-label label {\n",
       "  /* The background is the default theme color */\n",
       "  color: var(--sklearn-color-text-on-default-background);\n",
       "}\n",
       "\n",
       "/* On hover, darken the color of the background */\n",
       "#sk-container-id-1 div.sk-label:hover label.sk-toggleable__label {\n",
       "  color: var(--sklearn-color-text);\n",
       "  background-color: var(--sklearn-color-unfitted-level-2);\n",
       "}\n",
       "\n",
       "/* Label box, darken color on hover, fitted */\n",
       "#sk-container-id-1 div.sk-label.fitted:hover label.sk-toggleable__label.fitted {\n",
       "  color: var(--sklearn-color-text);\n",
       "  background-color: var(--sklearn-color-fitted-level-2);\n",
       "}\n",
       "\n",
       "/* Estimator label */\n",
       "\n",
       "#sk-container-id-1 div.sk-label label {\n",
       "  font-family: monospace;\n",
       "  font-weight: bold;\n",
       "  display: inline-block;\n",
       "  line-height: 1.2em;\n",
       "}\n",
       "\n",
       "#sk-container-id-1 div.sk-label-container {\n",
       "  text-align: center;\n",
       "}\n",
       "\n",
       "/* Estimator-specific */\n",
       "#sk-container-id-1 div.sk-estimator {\n",
       "  font-family: monospace;\n",
       "  border: 1px dotted var(--sklearn-color-border-box);\n",
       "  border-radius: 0.25em;\n",
       "  box-sizing: border-box;\n",
       "  margin-bottom: 0.5em;\n",
       "  /* unfitted */\n",
       "  background-color: var(--sklearn-color-unfitted-level-0);\n",
       "}\n",
       "\n",
       "#sk-container-id-1 div.sk-estimator.fitted {\n",
       "  /* fitted */\n",
       "  background-color: var(--sklearn-color-fitted-level-0);\n",
       "}\n",
       "\n",
       "/* on hover */\n",
       "#sk-container-id-1 div.sk-estimator:hover {\n",
       "  /* unfitted */\n",
       "  background-color: var(--sklearn-color-unfitted-level-2);\n",
       "}\n",
       "\n",
       "#sk-container-id-1 div.sk-estimator.fitted:hover {\n",
       "  /* fitted */\n",
       "  background-color: var(--sklearn-color-fitted-level-2);\n",
       "}\n",
       "\n",
       "/* Specification for estimator info (e.g. \"i\" and \"?\") */\n",
       "\n",
       "/* Common style for \"i\" and \"?\" */\n",
       "\n",
       ".sk-estimator-doc-link,\n",
       "a:link.sk-estimator-doc-link,\n",
       "a:visited.sk-estimator-doc-link {\n",
       "  float: right;\n",
       "  font-size: smaller;\n",
       "  line-height: 1em;\n",
       "  font-family: monospace;\n",
       "  background-color: var(--sklearn-color-background);\n",
       "  border-radius: 1em;\n",
       "  height: 1em;\n",
       "  width: 1em;\n",
       "  text-decoration: none !important;\n",
       "  margin-left: 0.5em;\n",
       "  text-align: center;\n",
       "  /* unfitted */\n",
       "  border: var(--sklearn-color-unfitted-level-1) 1pt solid;\n",
       "  color: var(--sklearn-color-unfitted-level-1);\n",
       "}\n",
       "\n",
       ".sk-estimator-doc-link.fitted,\n",
       "a:link.sk-estimator-doc-link.fitted,\n",
       "a:visited.sk-estimator-doc-link.fitted {\n",
       "  /* fitted */\n",
       "  border: var(--sklearn-color-fitted-level-1) 1pt solid;\n",
       "  color: var(--sklearn-color-fitted-level-1);\n",
       "}\n",
       "\n",
       "/* On hover */\n",
       "div.sk-estimator:hover .sk-estimator-doc-link:hover,\n",
       ".sk-estimator-doc-link:hover,\n",
       "div.sk-label-container:hover .sk-estimator-doc-link:hover,\n",
       ".sk-estimator-doc-link:hover {\n",
       "  /* unfitted */\n",
       "  background-color: var(--sklearn-color-unfitted-level-3);\n",
       "  color: var(--sklearn-color-background);\n",
       "  text-decoration: none;\n",
       "}\n",
       "\n",
       "div.sk-estimator.fitted:hover .sk-estimator-doc-link.fitted:hover,\n",
       ".sk-estimator-doc-link.fitted:hover,\n",
       "div.sk-label-container:hover .sk-estimator-doc-link.fitted:hover,\n",
       ".sk-estimator-doc-link.fitted:hover {\n",
       "  /* fitted */\n",
       "  background-color: var(--sklearn-color-fitted-level-3);\n",
       "  color: var(--sklearn-color-background);\n",
       "  text-decoration: none;\n",
       "}\n",
       "\n",
       "/* Span, style for the box shown on hovering the info icon */\n",
       ".sk-estimator-doc-link span {\n",
       "  display: none;\n",
       "  z-index: 9999;\n",
       "  position: relative;\n",
       "  font-weight: normal;\n",
       "  right: .2ex;\n",
       "  padding: .5ex;\n",
       "  margin: .5ex;\n",
       "  width: min-content;\n",
       "  min-width: 20ex;\n",
       "  max-width: 50ex;\n",
       "  color: var(--sklearn-color-text);\n",
       "  box-shadow: 2pt 2pt 4pt #999;\n",
       "  /* unfitted */\n",
       "  background: var(--sklearn-color-unfitted-level-0);\n",
       "  border: .5pt solid var(--sklearn-color-unfitted-level-3);\n",
       "}\n",
       "\n",
       ".sk-estimator-doc-link.fitted span {\n",
       "  /* fitted */\n",
       "  background: var(--sklearn-color-fitted-level-0);\n",
       "  border: var(--sklearn-color-fitted-level-3);\n",
       "}\n",
       "\n",
       ".sk-estimator-doc-link:hover span {\n",
       "  display: block;\n",
       "}\n",
       "\n",
       "/* \"?\"-specific style due to the `<a>` HTML tag */\n",
       "\n",
       "#sk-container-id-1 a.estimator_doc_link {\n",
       "  float: right;\n",
       "  font-size: 1rem;\n",
       "  line-height: 1em;\n",
       "  font-family: monospace;\n",
       "  background-color: var(--sklearn-color-background);\n",
       "  border-radius: 1rem;\n",
       "  height: 1rem;\n",
       "  width: 1rem;\n",
       "  text-decoration: none;\n",
       "  /* unfitted */\n",
       "  color: var(--sklearn-color-unfitted-level-1);\n",
       "  border: var(--sklearn-color-unfitted-level-1) 1pt solid;\n",
       "}\n",
       "\n",
       "#sk-container-id-1 a.estimator_doc_link.fitted {\n",
       "  /* fitted */\n",
       "  border: var(--sklearn-color-fitted-level-1) 1pt solid;\n",
       "  color: var(--sklearn-color-fitted-level-1);\n",
       "}\n",
       "\n",
       "/* On hover */\n",
       "#sk-container-id-1 a.estimator_doc_link:hover {\n",
       "  /* unfitted */\n",
       "  background-color: var(--sklearn-color-unfitted-level-3);\n",
       "  color: var(--sklearn-color-background);\n",
       "  text-decoration: none;\n",
       "}\n",
       "\n",
       "#sk-container-id-1 a.estimator_doc_link.fitted:hover {\n",
       "  /* fitted */\n",
       "  background-color: var(--sklearn-color-fitted-level-3);\n",
       "}\n",
       "</style><div id=\"sk-container-id-1\" class=\"sk-top-container\"><div class=\"sk-text-repr-fallback\"><pre>GridSearchCV(cv=5, estimator=SVC(),\n",
       "             param_grid={&#x27;C&#x27;: [0.1, 0.5, 1, 5, 10, 100, 1000],\n",
       "                         &#x27;class_weight&#x27;: [None, &#x27;balanced&#x27;],\n",
       "                         &#x27;gamma&#x27;: [0.0001, 0.001, &#x27;scale&#x27;]},\n",
       "             scoring=&#x27;f1_weighted&#x27;, verbose=3)</pre><b>In a Jupyter environment, please rerun this cell to show the HTML representation or trust the notebook. <br />On GitHub, the HTML representation is unable to render, please try loading this page with nbviewer.org.</b></div><div class=\"sk-container\" hidden><div class=\"sk-item sk-dashed-wrapped\"><div class=\"sk-label-container\"><div class=\"sk-label fitted sk-toggleable\"><input class=\"sk-toggleable__control sk-hidden--visually\" id=\"sk-estimator-id-1\" type=\"checkbox\" ><label for=\"sk-estimator-id-1\" class=\"sk-toggleable__label fitted sk-toggleable__label-arrow\"><div><div>GridSearchCV</div></div><div><a class=\"sk-estimator-doc-link fitted\" rel=\"noreferrer\" target=\"_blank\" href=\"https://scikit-learn.org/1.6/modules/generated/sklearn.model_selection.GridSearchCV.html\">?<span>Documentation for GridSearchCV</span></a><span class=\"sk-estimator-doc-link fitted\">i<span>Fitted</span></span></div></label><div class=\"sk-toggleable__content fitted\"><pre>GridSearchCV(cv=5, estimator=SVC(),\n",
       "             param_grid={&#x27;C&#x27;: [0.1, 0.5, 1, 5, 10, 100, 1000],\n",
       "                         &#x27;class_weight&#x27;: [None, &#x27;balanced&#x27;],\n",
       "                         &#x27;gamma&#x27;: [0.0001, 0.001, &#x27;scale&#x27;]},\n",
       "             scoring=&#x27;f1_weighted&#x27;, verbose=3)</pre></div> </div></div><div class=\"sk-parallel\"><div class=\"sk-parallel-item\"><div class=\"sk-item\"><div class=\"sk-label-container\"><div class=\"sk-label fitted sk-toggleable\"><input class=\"sk-toggleable__control sk-hidden--visually\" id=\"sk-estimator-id-2\" type=\"checkbox\" ><label for=\"sk-estimator-id-2\" class=\"sk-toggleable__label fitted sk-toggleable__label-arrow\"><div><div>best_estimator_: SVC</div></div></label><div class=\"sk-toggleable__content fitted\"><pre>SVC(C=5, gamma=0.001)</pre></div> </div></div><div class=\"sk-serial\"><div class=\"sk-item\"><div class=\"sk-estimator fitted sk-toggleable\"><input class=\"sk-toggleable__control sk-hidden--visually\" id=\"sk-estimator-id-3\" type=\"checkbox\" ><label for=\"sk-estimator-id-3\" class=\"sk-toggleable__label fitted sk-toggleable__label-arrow\"><div><div>SVC</div></div><div><a class=\"sk-estimator-doc-link fitted\" rel=\"noreferrer\" target=\"_blank\" href=\"https://scikit-learn.org/1.6/modules/generated/sklearn.svm.SVC.html\">?<span>Documentation for SVC</span></a></div></label><div class=\"sk-toggleable__content fitted\"><pre>SVC(C=5, gamma=0.001)</pre></div> </div></div></div></div></div></div></div></div></div>"
      ],
      "text/plain": [
       "GridSearchCV(cv=5, estimator=SVC(),\n",
       "             param_grid={'C': [0.1, 0.5, 1, 5, 10, 100, 1000],\n",
       "                         'class_weight': [None, 'balanced'],\n",
       "                         'gamma': [0.0001, 0.001, 'scale']},\n",
       "             scoring='f1_weighted', verbose=3)"
      ]
     },
     "execution_count": 14,
     "metadata": {},
     "output_type": "execute_result"
    }
   ],
   "source": [
    "svc = SVC()\n",
    "grid_search = GridSearchCV(svc, param_grid, scoring='f1_weighted', cv=5, verbose=3)\n",
    "grid_search.fit(X_train, y_train)"
   ]
  },
  {
   "cell_type": "code",
   "execution_count": 15,
   "metadata": {
    "colab": {
     "base_uri": "https://localhost:8080/"
    },
    "executionInfo": {
     "elapsed": 14,
     "status": "ok",
     "timestamp": 1748180172834,
     "user": {
      "displayName": "Jacky John Abucay",
      "userId": "15964300466267869372"
     },
     "user_tz": -480
    },
    "id": "Js9Z3xtxMaOY",
    "outputId": "57ff4a06-b3d0-4c94-f157-00c2ac2fc436"
   },
   "outputs": [
    {
     "name": "stdout",
     "output_type": "stream",
     "text": [
      "{'C': 5, 'class_weight': None, 'gamma': 0.001}\n",
      "0.8309420986608675\n"
     ]
    }
   ],
   "source": [
    "print(grid_search.best_params_)\n",
    "print(grid_search.best_score_)\n",
    "\n",
    "best_estimator = grid_search.best_estimator_"
   ]
  },
  {
   "cell_type": "markdown",
   "metadata": {},
   "source": [
    "Generate heatmaps to visualize and compare CV F1 scores with respect to Gamma and C."
   ]
  },
  {
   "cell_type": "code",
   "execution_count": 28,
   "metadata": {},
   "outputs": [
    {
     "data": {
      "image/png": "[encoded data removed]",
      "text/plain": [
       "<Figure size 800x600 with 2 Axes>"
      ]
     },
     "metadata": {},
     "output_type": "display_data"
    }
   ],
   "source": [
    "cv_results = pd.DataFrame(grid_search.cv_results_)\n",
    "subset = cv_results[cv_results['param_class_weight'].isnull()]\n",
    "\n",
    "pivot = subset.pivot_table(\n",
    "    index='param_C',\n",
    "    columns='param_gamma',\n",
    "    values='mean_test_score'\n",
    ")\n",
    "\n",
    "plt.figure(figsize=(8, 6))\n",
    "sns.heatmap(pivot, annot=True, fmt=\".3f\")\n",
    "plt.title(\"Grid Search CV F1 Score Heatmap (class_weight=None)\")\n",
    "plt.xlabel(\"Gamma\")\n",
    "plt.ylabel(\"C\")\n",
    "plt.show()"
   ]
  },
  {
   "cell_type": "code",
   "execution_count": 29,
   "metadata": {},
   "outputs": [
    {
     "data": {
      "image/png": "[encoded data removed]",
      "text/plain": [
       "<Figure size 800x600 with 2 Axes>"
      ]
     },
     "metadata": {},
     "output_type": "display_data"
    }
   ],
   "source": [
    "subset = cv_results[cv_results['param_class_weight'] == 'balanced']\n",
    "\n",
    "pivot = subset.pivot_table(\n",
    "    index='param_C',\n",
    "    columns='param_gamma',\n",
    "    values='mean_test_score'\n",
    ")\n",
    "\n",
    "plt.figure(figsize=(8, 6))\n",
    "sns.heatmap(pivot, annot=True, fmt=\".3f\")\n",
    "plt.title(\"Grid Search CV F1 Score Heatmap (class_weight='balanced')\")\n",
    "plt.xlabel(\"Gamma\")\n",
    "plt.ylabel(\"C\")\n",
    "plt.show()"
   ]
  },
  {
   "cell_type": "markdown",
   "metadata": {
    "id": "xE9zSdEZ9eIr"
   },
   "source": [
    "## Model Evaluation\n",
    "\n",
    "This section tests the model created and determines its performance."
   ]
  },
  {
   "cell_type": "code",
   "execution_count": 30,
   "metadata": {
    "colab": {
     "base_uri": "https://localhost:8080/",
     "height": 211
    },
    "executionInfo": {
     "elapsed": 1184,
     "status": "error",
     "timestamp": 1748180175635,
     "user": {
      "displayName": "Jacky John Abucay",
      "userId": "15964300466267869372"
     },
     "user_tz": -480
    },
    "id": "OhByuRwg_1i5",
    "outputId": "094ddc27-59e7-405a-9fbe-6a55f9a4b084"
   },
   "outputs": [
    {
     "name": "stdout",
     "output_type": "stream",
     "text": [
      "Testing Accuracy: 0.8284132841328413\n",
      "Testing F1 Score: 0.8281493385863974\n",
      "              precision    recall  f1-score   support\n",
      "\n",
      "    Bacteria       0.89      0.96      0.93       103\n",
      "       Fungi       0.81      0.80      0.80       135\n",
      "     Healthy       0.78      0.81      0.79        36\n",
      "        Pest       0.77      0.78      0.77       110\n",
      " Phytopthora       0.96      0.77      0.86        62\n",
      "       Virus       0.81      0.82      0.81        96\n",
      "\n",
      "    accuracy                           0.83       542\n",
      "   macro avg       0.84      0.82      0.83       542\n",
      "weighted avg       0.83      0.83      0.83       542\n",
      "\n"
     ]
    }
   ],
   "source": [
    "y_pred = best_estimator.predict(X_test)\n",
    "\n",
    "print(\"Testing Accuracy:\", accuracy_score(y_test, y_pred))\n",
    "print(\"Testing F1 Score:\", f1_score(y_test, y_pred, average='weighted'))\n",
    "print(classification_report(y_test, y_pred, target_names=categories))"
   ]
  },
  {
   "cell_type": "code",
   "execution_count": 31,
   "metadata": {
    "colab": {
     "base_uri": "https://localhost:8080/",
     "height": 466
    },
    "executionInfo": {
     "elapsed": 428,
     "status": "ok",
     "timestamp": 1748168604368,
     "user": {
      "displayName": "Jacky John Abucay",
      "userId": "15964300466267869372"
     },
     "user_tz": -480
    },
    "id": "Ad0wDioy_qLG",
    "outputId": "f8366474-417d-4793-afb7-75231db58745"
   },
   "outputs": [
    {
     "data": {
      "text/plain": [
       "<sklearn.metrics._plot.confusion_matrix.ConfusionMatrixDisplay at 0x7fdf905f8350>"
      ]
     },
     "execution_count": 31,
     "metadata": {},
     "output_type": "execute_result"
    },
    {
     "data": {
      "image/png": "[encoded data removed]",
      "text/plain": [
       "<Figure size 640x480 with 2 Axes>"
      ]
     },
     "metadata": {},
     "output_type": "display_data"
    }
   ],
   "source": [
    "ConfusionMatrixDisplay.from_predictions(y_test, y_pred, display_labels=categories)"
   ]
  },
  {
   "cell_type": "markdown",
   "metadata": {
    "id": "3ywltywZct__"
   },
   "source": [
    "## Exporting Trained Model\n",
    "\n",
    "This section exports the trained model and scaler using `joblib`. This is done so that these files can be used elsewhere or at a future point in time."
   ]
  },
  {
   "cell_type": "code",
   "execution_count": 32,
   "metadata": {
    "executionInfo": {
     "elapsed": 1,
     "status": "ok",
     "timestamp": 1748168604370,
     "user": {
      "displayName": "Jacky John Abucay",
      "userId": "15964300466267869372"
     },
     "user_tz": -480
    },
    "id": "6N-UpRE7-C3w"
   },
   "outputs": [],
   "source": [
    "import joblib"
   ]
  },
  {
   "cell_type": "code",
   "execution_count": 33,
   "metadata": {
    "colab": {
     "base_uri": "https://localhost:8080/"
    },
    "executionInfo": {
     "elapsed": 36,
     "status": "ok",
     "timestamp": 1748168604409,
     "user": {
      "displayName": "Jacky John Abucay",
      "userId": "15964300466267869372"
     },
     "user_tz": -480
    },
    "id": "37x0DM4gcyx_",
    "outputId": "f7c85e7e-47ac-4b0e-c614-13d215507231"
   },
   "outputs": [
    {
     "data": {
      "text/plain": [
       "['./traditional_scaler.joblib']"
      ]
     },
     "execution_count": 33,
     "metadata": {},
     "output_type": "execute_result"
    }
   ],
   "source": [
    "joblib.dump(best_estimator, f'{OUTPUT_DIR}/traditional_model.joblib')\n",
    "joblib.dump(scaler, f'{OUTPUT_DIR}/traditional_scaler.joblib')"
   ]
  },
  {
   "cell_type": "markdown",
   "metadata": {},
   "source": [
    "# Testing"
   ]
  },
  {
   "cell_type": "markdown",
   "metadata": {
    "id": "X6EWYalnjqDg"
   },
   "source": [
    "## Labeling Test Samples\n",
    "\n",
    "This section provides a prediction in the images provided at the `potato_test` folder and export a `.csv` file containing the predicted labels."
   ]
  },
  {
   "cell_type": "markdown",
   "metadata": {
    "id": "5U7O-sruQCYB"
   },
   "source": [
    "Save the test images to the `test_images` array variable"
   ]
  },
  {
   "cell_type": "code",
   "execution_count": 34,
   "metadata": {
    "executionInfo": {
     "elapsed": 7795,
     "status": "ok",
     "timestamp": 1748174010822,
     "user": {
      "displayName": "Jacky John Abucay",
      "userId": "15964300466267869372"
     },
     "user_tz": -480
    },
    "id": "-f9yLFbpky2X"
   },
   "outputs": [],
   "source": [
    "test_images = []\n",
    "test_images_filename = []\n",
    "\n",
    "for filename in os.listdir(TEST_DIR):\n",
    "    if filename.lower().endswith(('.jpg', '.jpeg', '.png')):\n",
    "        img_path = os.path.join(TEST_DIR, filename)\n",
    "        img = cv2.imread(img_path)\n",
    "        if img is not None:\n",
    "            test_images.append(img)\n",
    "            test_images_filename.append(filename)"
   ]
  },
  {
   "cell_type": "markdown",
   "metadata": {
    "id": "BNSXVuIoQOat"
   },
   "source": [
    "Extract the features of the images and save it in the `test_samples` variable"
   ]
  },
  {
   "cell_type": "code",
   "execution_count": 35,
   "metadata": {
    "colab": {
     "base_uri": "https://localhost:8080/",
     "height": 49,
     "referenced_widgets": [
      "8a3e254483f84030a1252161e5583d00",
      "0e691130e771489ea1d2225d25f2be99",
      "bc36818662fb484db0af5bfa2db6096a",
      "7e5cf0b6ee694d65878dfed56fedf67b",
      "cdf449044c0c4be1bbba403af4a90a05",
      "3fc28d41beea41859bf39a8317a48ca5",
      "732246db5c624669b484dd804976802d",
      "2b43911ea8e143fb8e84d4ed305f78e0",
      "13b29899100f4d089f1a3de2baa77fb1",
      "e08590e89bb1435a8299ef997381d8e7",
      "04f354d798e34291829e1e1e0dfc9b18"
     ]
    },
    "executionInfo": {
     "elapsed": 341730,
     "status": "ok",
     "timestamp": 1748173584866,
     "user": {
      "displayName": "Jacky John Abucay",
      "userId": "15964300466267869372"
     },
     "user_tz": -480
    },
    "id": "bfH4JLeloyEd",
    "outputId": "72ee7f84-2e72-4738-b05e-bb7c7c5423bb"
   },
   "outputs": [
    {
     "name": "stderr",
     "output_type": "stream",
     "text": [
      "Extracting Test Features: 100%|██████████| 301/301 [01:30<00:00,  3.31it/s]\n"
     ]
    }
   ],
   "source": [
    "test_samples = [extract_features(img, inference_transforms) for img in tqdm(test_images,  desc='Extracting Test Features')]"
   ]
  },
  {
   "cell_type": "markdown",
   "metadata": {
    "id": "pDCClfYGQWbd"
   },
   "source": [
    "Apply the scaler to standardize the test samples prior to passing it to the model."
   ]
  },
  {
   "cell_type": "code",
   "execution_count": 36,
   "metadata": {
    "executionInfo": {
     "elapsed": 8,
     "status": "ok",
     "timestamp": 1748173584876,
     "user": {
      "displayName": "Jacky John Abucay",
      "userId": "15964300466267869372"
     },
     "user_tz": -480
    },
    "id": "iV8-0-QRpMIb"
   },
   "outputs": [],
   "source": [
    "test_samples = scaler.transform(test_samples)"
   ]
  },
  {
   "cell_type": "markdown",
   "metadata": {
    "id": "eTfDddzIQfK9"
   },
   "source": [
    "Predict the labels of the test samples and save the predictions in the `test_pred` variable"
   ]
  },
  {
   "cell_type": "code",
   "execution_count": 37,
   "metadata": {
    "executionInfo": {
     "elapsed": 385,
     "status": "ok",
     "timestamp": 1748173585274,
     "user": {
      "displayName": "Jacky John Abucay",
      "userId": "15964300466267869372"
     },
     "user_tz": -480
    },
    "id": "eOplp7U6pTSQ"
   },
   "outputs": [],
   "source": [
    "test_pred = best_estimator.predict(test_samples)"
   ]
  },
  {
   "cell_type": "markdown",
   "metadata": {
    "id": "Ug3xa-YsQmGs"
   },
   "source": [
    "Print the number of predicted labels in each category."
   ]
  },
  {
   "cell_type": "code",
   "execution_count": 38,
   "metadata": {
    "colab": {
     "base_uri": "https://localhost:8080/"
    },
    "executionInfo": {
     "elapsed": 7,
     "status": "ok",
     "timestamp": 1748173585283,
     "user": {
      "displayName": "Jacky John Abucay",
      "userId": "15964300466267869372"
     },
     "user_tz": -480
    },
    "id": "s8DGeBgpwKTi",
    "outputId": "39549cea-7919-4d78-b2e1-4cb0001f4ea2"
   },
   "outputs": [
    {
     "name": "stdout",
     "output_type": "stream",
     "text": [
      "Bacteria: 55\n",
      "Fungi: 86\n",
      "Healthy: 16\n",
      "Pest: 58\n",
      "Phytopthora: 33\n",
      "Virus: 53\n"
     ]
    }
   ],
   "source": [
    "predicted_labels = [0, 0, 0, 0, 0, 0]\n",
    "\n",
    "for prediction in test_pred:\n",
    "    predicted_labels[prediction] += 1\n",
    "\n",
    "for label, category in enumerate(categories):\n",
    "    print(f'{category}: {predicted_labels[label]}')"
   ]
  },
  {
   "cell_type": "markdown",
   "metadata": {
    "id": "kjbOCBfNQs2r"
   },
   "source": [
    "Save the predicted labels of the test samples in `traditional_predicted.csv`"
   ]
  },
  {
   "cell_type": "code",
   "execution_count": 39,
   "metadata": {
    "colab": {
     "base_uri": "https://localhost:8080/"
    },
    "executionInfo": {
     "elapsed": 37,
     "status": "ok",
     "timestamp": 1748174913952,
     "user": {
      "displayName": "Jacky John Abucay",
      "userId": "15964300466267869372"
     },
     "user_tz": -480
    },
    "id": "dHEh9UUEyARd",
    "outputId": "76176614-3716-49e4-91e9-0a8b9ff5cfad"
   },
   "outputs": [
    {
     "name": "stdout",
     "output_type": "stream",
     "text": [
      "0.jpeg Pest\n",
      "1.jpeg Healthy\n",
      "10.jpeg Healthy\n",
      "100.jpeg Fungi\n",
      "101.jpeg Fungi\n",
      "102.jpeg Fungi\n",
      "103.jpeg Fungi\n",
      "104.jpeg Pest\n",
      "105.jpeg Fungi\n",
      "106.jpeg Fungi\n",
      "107.jpeg Fungi\n",
      "108.jpeg Fungi\n",
      "109.jpeg Fungi\n",
      "11.jpeg Healthy\n",
      "110.jpeg Fungi\n",
      "111.jpeg Fungi\n",
      "112.jpeg Pest\n",
      "113.jpeg Fungi\n",
      "114.jpeg Fungi\n",
      "115.jpeg Fungi\n",
      "116.jpeg Virus\n",
      "117.jpeg Pest\n",
      "118.jpeg Fungi\n",
      "119.jpeg Fungi\n",
      "12.jpeg Healthy\n",
      "120.jpeg Fungi\n",
      "121.jpeg Fungi\n",
      "122.jpeg Fungi\n",
      "123.jpeg Fungi\n",
      "124.jpeg Fungi\n",
      "125.jpeg Fungi\n",
      "126.jpeg Fungi\n",
      "127.jpeg Fungi\n",
      "128.jpeg Fungi\n",
      "129.jpeg Fungi\n",
      "13.jpeg Healthy\n",
      "130.jpeg Fungi\n",
      "131.jpeg Fungi\n",
      "132.jpeg Fungi\n",
      "133.jpeg Virus\n",
      "134.jpeg Virus\n",
      "135.jpeg Virus\n",
      "136.jpeg Fungi\n",
      "137.jpeg Fungi\n",
      "138.jpeg Fungi\n",
      "139.jpeg Fungi\n",
      "14.jpeg Healthy\n",
      "140.jpeg Fungi\n",
      "141.jpeg Phytopthora\n",
      "142.jpeg Fungi\n",
      "143.jpeg Fungi\n",
      "144.jpeg Pest\n",
      "145.jpeg Fungi\n",
      "146.jpeg Fungi\n",
      "147.jpeg Fungi\n",
      "148.jpeg Fungi\n",
      "149.jpeg Fungi\n",
      "15.jpeg Healthy\n",
      "150.jpeg Fungi\n",
      "151.jpeg Fungi\n",
      "152.jpeg Fungi\n",
      "153.jpeg Fungi\n",
      "154.jpeg Fungi\n",
      "155.jpeg Pest\n",
      "156.jpeg Pest\n",
      "157.jpeg Pest\n",
      "158.jpeg Fungi\n",
      "159.jpeg Pest\n",
      "16.jpeg Fungi\n",
      "160.jpeg Pest\n",
      "161.jpeg Pest\n",
      "162.jpeg Fungi\n",
      "163.jpeg Fungi\n",
      "164.jpeg Fungi\n",
      "165.jpeg Pest\n",
      "166.jpeg Pest\n",
      "167.jpeg Fungi\n",
      "168.jpeg Pest\n",
      "169.jpeg Pest\n",
      "17.jpeg Healthy\n",
      "170.jpeg Pest\n",
      "171.jpeg Pest\n",
      "172.jpeg Pest\n",
      "173.jpeg Pest\n",
      "174.jpeg Pest\n",
      "175.jpeg Pest\n",
      "176.jpeg Pest\n",
      "177.jpeg Pest\n",
      "178.jpeg Virus\n",
      "179.jpeg Pest\n",
      "18.jpeg Healthy\n",
      "180.jpeg Fungi\n",
      "181.jpeg Pest\n",
      "182.jpeg Pest\n",
      "183.jpeg Fungi\n",
      "184.jpeg Pest\n",
      "185.jpeg Fungi\n",
      "186.jpeg Pest\n",
      "187.jpeg Pest\n",
      "188.jpeg Pest\n",
      "189.jpeg Pest\n",
      "19.jpeg Fungi\n",
      "190.jpeg Fungi\n",
      "191.jpeg Pest\n",
      "192.jpeg Phytopthora\n",
      "193.jpeg Pest\n",
      "194.jpeg Fungi\n",
      "195.jpeg Pest\n",
      "196.jpeg Pest\n",
      "197.jpeg Pest\n",
      "198.jpeg Pest\n",
      "199.jpeg Pest\n",
      "2.jpeg Healthy\n",
      "20.jpeg Bacteria\n",
      "200.jpeg Pest\n",
      "201.jpeg Pest\n",
      "202.jpeg Pest\n",
      "203.jpeg Pest\n",
      "204.jpeg Pest\n",
      "205.jpeg Pest\n",
      "206.jpeg Fungi\n",
      "207.jpeg Pest\n",
      "208.jpeg Fungi\n",
      "209.jpeg Virus\n",
      "21.jpeg Bacteria\n",
      "210.jpeg Pest\n",
      "211.jpeg Fungi\n",
      "212.jpeg Pest\n",
      "213.jpeg Phytopthora\n",
      "214.jpeg Fungi\n",
      "215.jpeg Pest\n",
      "216.jpeg Phytopthora\n",
      "217.jpeg Phytopthora\n",
      "218.jpeg Phytopthora\n",
      "219.jpeg Phytopthora\n",
      "22.jpeg Bacteria\n",
      "220.jpeg Phytopthora\n",
      "221.jpeg Phytopthora\n",
      "222.jpeg Phytopthora\n",
      "223.jpeg Phytopthora\n",
      "224.jpeg Phytopthora\n",
      "225.jpeg Phytopthora\n",
      "226.jpeg Phytopthora\n",
      "227.jpeg Phytopthora\n",
      "228.jpeg Phytopthora\n",
      "229.jpeg Fungi\n",
      "23.jpeg Bacteria\n",
      "230.jpeg Phytopthora\n",
      "231.jpeg Fungi\n",
      "232.jpeg Phytopthora\n",
      "233.jpeg Phytopthora\n",
      "234.jpeg Phytopthora\n",
      "235.jpeg Phytopthora\n",
      "236.jpeg Phytopthora\n",
      "237.jpeg Fungi\n",
      "238.jpeg Phytopthora\n",
      "239.jpeg Phytopthora\n",
      "24.jpeg Bacteria\n",
      "240.jpeg Phytopthora\n",
      "241.jpeg Phytopthora\n",
      "242.jpeg Fungi\n",
      "243.jpeg Phytopthora\n",
      "244.jpeg Phytopthora\n",
      "245.jpeg Phytopthora\n",
      "246.jpeg Phytopthora\n",
      "247.jpeg Phytopthora\n",
      "248.jpeg Virus\n",
      "249.jpeg Virus\n",
      "25.jpeg Bacteria\n",
      "250.jpeg Virus\n",
      "251.jpeg Virus\n",
      "252.jpeg Bacteria\n",
      "253.jpeg Virus\n",
      "254.jpeg Virus\n",
      "255.jpeg Virus\n",
      "256.jpeg Healthy\n",
      "257.jpeg Virus\n",
      "258.jpeg Virus\n",
      "259.jpeg Virus\n",
      "26.jpeg Bacteria\n",
      "260.jpeg Virus\n",
      "261.jpeg Virus\n",
      "262.jpeg Virus\n",
      "263.jpeg Virus\n",
      "264.jpeg Virus\n",
      "265.jpeg Virus\n",
      "266.jpeg Virus\n",
      "267.jpeg Virus\n",
      "268.jpeg Virus\n",
      "269.jpeg Virus\n",
      "27.jpeg Bacteria\n",
      "270.jpeg Virus\n",
      "271.jpeg Virus\n",
      "272.jpeg Virus\n",
      "273.jpeg Virus\n",
      "274.jpeg Phytopthora\n",
      "275.jpeg Virus\n",
      "276.jpeg Virus\n",
      "277.jpeg Virus\n",
      "278.jpeg Virus\n",
      "279.jpeg Virus\n",
      "28.jpeg Virus\n",
      "280.jpeg Pest\n",
      "281.jpeg Virus\n",
      "282.jpeg Virus\n",
      "283.jpeg Virus\n",
      "284.jpeg Pest\n",
      "285.jpeg Fungi\n",
      "286.jpeg Virus\n",
      "287.jpeg Virus\n",
      "288.jpeg Virus\n",
      "289.jpeg Virus\n",
      "29.jpeg Bacteria\n",
      "290.jpeg Virus\n",
      "291.jpeg Virus\n",
      "292.jpeg Virus\n",
      "293.jpeg Virus\n",
      "294.jpeg Virus\n",
      "295.jpeg Virus\n",
      "296.jpeg Virus\n",
      "297.jpeg Virus\n",
      "298.jpeg Pest\n",
      "299.jpeg Virus\n",
      "3.jpeg Pest\n",
      "30.jpeg Bacteria\n",
      "300.jpeg Phytopthora\n",
      "31.jpeg Bacteria\n",
      "32.jpeg Bacteria\n",
      "33.jpeg Pest\n",
      "34.jpeg Bacteria\n",
      "35.jpeg Bacteria\n",
      "36.jpeg Bacteria\n",
      "37.jpeg Bacteria\n",
      "38.jpeg Bacteria\n",
      "39.jpeg Bacteria\n",
      "4.jpeg Healthy\n",
      "40.jpeg Bacteria\n",
      "41.jpeg Bacteria\n",
      "42.jpeg Bacteria\n",
      "43.jpeg Bacteria\n",
      "44.jpeg Bacteria\n",
      "45.jpeg Bacteria\n",
      "46.jpeg Bacteria\n",
      "47.jpeg Bacteria\n",
      "48.jpeg Bacteria\n",
      "49.jpeg Bacteria\n",
      "5.jpeg Healthy\n",
      "50.jpeg Bacteria\n",
      "51.jpeg Bacteria\n",
      "52.jpeg Bacteria\n",
      "53.jpeg Bacteria\n",
      "54.jpeg Fungi\n",
      "55.jpeg Bacteria\n",
      "56.jpeg Bacteria\n",
      "57.jpeg Bacteria\n",
      "58.jpeg Bacteria\n",
      "59.jpeg Bacteria\n",
      "6.jpeg Healthy\n",
      "60.jpeg Bacteria\n",
      "61.jpeg Bacteria\n",
      "62.jpeg Bacteria\n",
      "63.jpeg Bacteria\n",
      "64.jpeg Bacteria\n",
      "65.jpeg Bacteria\n",
      "66.jpeg Bacteria\n",
      "67.jpeg Bacteria\n",
      "68.jpeg Bacteria\n",
      "69.jpeg Bacteria\n",
      "7.jpeg Healthy\n",
      "70.jpeg Bacteria\n",
      "71.jpeg Bacteria\n",
      "72.jpeg Bacteria\n",
      "73.jpeg Bacteria\n",
      "74.jpeg Bacteria\n",
      "75.jpeg Bacteria\n",
      "76.jpeg Bacteria\n",
      "77.jpeg Fungi\n",
      "78.jpeg Fungi\n",
      "79.jpeg Fungi\n",
      "8.jpeg Virus\n",
      "80.jpeg Fungi\n",
      "81.jpeg Fungi\n",
      "82.jpeg Pest\n",
      "83.jpeg Pest\n",
      "84.jpeg Fungi\n",
      "85.jpeg Pest\n",
      "86.jpeg Pest\n",
      "87.jpeg Fungi\n",
      "88.jpeg Fungi\n",
      "89.jpeg Fungi\n",
      "9.jpeg Healthy\n",
      "90.jpeg Fungi\n",
      "91.jpeg Fungi\n",
      "92.jpeg Fungi\n",
      "93.jpeg Fungi\n",
      "94.jpeg Fungi\n",
      "95.jpeg Fungi\n",
      "96.jpeg Fungi\n",
      "97.jpeg Pest\n",
      "98.jpeg Fungi\n",
      "99.jpeg Fungi\n"
     ]
    }
   ],
   "source": [
    "import csv\n",
    "\n",
    "with open(f'{OUTPUT_DIR}/traditional_predicted.csv', 'w', newline='') as f:\n",
    "\tfieldnames = ['image_filename', 'predicted_label']\n",
    "\twriter = csv.DictWriter(f, fieldnames=fieldnames)\n",
    "\n",
    "\twriter.writeheader()\n",
    "\n",
    "\timage_pred = []\n",
    "\n",
    "\tfor i, filename in enumerate(test_images_filename):\n",
    "\t\tif filename.lower().endswith(('.jpg', '.jpeg', '.png')):\n",
    "\t\t\timage_pred.append((filename, categories[test_pred[i]]))\n",
    "\n",
    "\timage_pred.sort()\n",
    "\n",
    "\tfor filename, label in image_pred:\n",
    "\t\tif filename.lower().endswith(('.jpg', '.jpeg', '.png')):\n",
    "\t\t\twriter.writerow({'image_filename': filename, 'predicted_label': label})\n",
    "\t\t\tprint(filename, label)"
   ]
  }
 ],
 "metadata": {
  "colab": {
   "provenance": []
  },
  "kernelspec": {
   "display_name": "Python 3",
   "name": "python3"
  },
  "language_info": {
   "codemirror_mode": {
    "name": "ipython",
    "version": 3
   },
   "file_extension": ".py",
   "mimetype": "text/x-python",
   "name": "python",
   "nbconvert_exporter": "python",
   "pygments_lexer": "ipython3",
   "version": "3.12.10"
  },
  "widgets": {
   "application/vnd.jupyter.widget-state+json": {
    "04f354d798e34291829e1e1e0dfc9b18": {
     "model_module": "@jupyter-widgets/controls",
     "model_module_version": "1.5.0",
     "model_name": "DescriptionStyleModel",
     "state": {
      "_model_module": "@jupyter-widgets/controls",
      "_model_module_version": "1.5.0",
      "_model_name": "DescriptionStyleModel",
      "_view_count": null,
      "_view_module": "@jupyter-widgets/base",
      "_view_module_version": "1.2.0",
      "_view_name": "StyleView",
      "description_width": ""
     }
    },
    "0e691130e771489ea1d2225d25f2be99": {
     "model_module": "@jupyter-widgets/controls",
     "model_module_version": "1.5.0",
     "model_name": "HTMLModel",
     "state": {
      "_dom_classes": [],
      "_model_module": "@jupyter-widgets/controls",
      "_model_module_version": "1.5.0",
      "_model_name": "HTMLModel",
      "_view_count": null,
      "_view_module": "@jupyter-widgets/controls",
      "_view_module_version": "1.5.0",
      "_view_name": "HTMLView",
      "description": "",
      "description_tooltip": null,
      "layout": "IPY_MODEL_3fc28d41beea41859bf39a8317a48ca5",
      "placeholder": "​",
      "style": "IPY_MODEL_732246db5c624669b484dd804976802d",
      "value": "Extracting Test Features: 100%"
     }
    },
    "0f6fec329f1947378b45d914c05c4671": {
     "model_module": "@jupyter-widgets/controls",
     "model_module_version": "1.5.0",
     "model_name": "HBoxModel",
     "state": {
      "_dom_classes": [],
      "_model_module": "@jupyter-widgets/controls",
      "_model_module_version": "1.5.0",
      "_model_name": "HBoxModel",
      "_view_count": null,
      "_view_module": "@jupyter-widgets/controls",
      "_view_module_version": "1.5.0",
      "_view_name": "HBoxView",
      "box_style": "",
      "children": [
       "IPY_MODEL_1b2f63f02e3641c1b666744459ba93af",
       "IPY_MODEL_e13404ead2774689a351966d48d27e8a",
       "IPY_MODEL_fef3fd80943d4cf08dd705007a54a298"
      ],
      "layout": "IPY_MODEL_44eff54d7e50438e8e3697daed03da73"
     }
    },
    "13b29899100f4d089f1a3de2baa77fb1": {
     "model_module": "@jupyter-widgets/controls",
     "model_module_version": "1.5.0",
     "model_name": "ProgressStyleModel",
     "state": {
      "_model_module": "@jupyter-widgets/controls",
      "_model_module_version": "1.5.0",
      "_model_name": "ProgressStyleModel",
      "_view_count": null,
      "_view_module": "@jupyter-widgets/base",
      "_view_module_version": "1.2.0",
      "_view_name": "StyleView",
      "bar_color": null,
      "description_width": ""
     }
    },
    "1b2f63f02e3641c1b666744459ba93af": {
     "model_module": "@jupyter-widgets/controls",
     "model_module_version": "1.5.0",
     "model_name": "HTMLModel",
     "state": {
      "_dom_classes": [],
      "_model_module": "@jupyter-widgets/controls",
      "_model_module_version": "1.5.0",
      "_model_name": "HTMLModel",
      "_view_count": null,
      "_view_module": "@jupyter-widgets/controls",
      "_view_module_version": "1.5.0",
      "_view_name": "HTMLView",
      "description": "",
      "description_tooltip": null,
      "layout": "IPY_MODEL_c8b24b787ac8434992a6244d76caf323",
      "placeholder": "​",
      "style": "IPY_MODEL_46c047d8942f4485b6167f4c07f4f335",
      "value": "Extracting Training Features: 100%"
     }
    },
    "1c57d02947dd4de399a83c90862deccb": {
     "model_module": "@jupyter-widgets/controls",
     "model_module_version": "1.5.0",
     "model_name": "ProgressStyleModel",
     "state": {
      "_model_module": "@jupyter-widgets/controls",
      "_model_module_version": "1.5.0",
      "_model_name": "ProgressStyleModel",
      "_view_count": null,
      "_view_module": "@jupyter-widgets/base",
      "_view_module_version": "1.2.0",
      "_view_name": "StyleView",
      "bar_color": null,
      "description_width": ""
     }
    },
    "2a1ef9c3c0894bafbb3bcfbc41a02ec9": {
     "model_module": "@jupyter-widgets/controls",
     "model_module_version": "1.5.0",
     "model_name": "DescriptionStyleModel",
     "state": {
      "_model_module": "@jupyter-widgets/controls",
      "_model_module_version": "1.5.0",
      "_model_name": "DescriptionStyleModel",
      "_view_count": null,
      "_view_module": "@jupyter-widgets/base",
      "_view_module_version": "1.2.0",
      "_view_name": "StyleView",
      "description_width": ""
     }
    },
    "2b43911ea8e143fb8e84d4ed305f78e0": {
     "model_module": "@jupyter-widgets/base",
     "model_module_version": "1.2.0",
     "model_name": "LayoutModel",
     "state": {
      "_model_module": "@jupyter-widgets/base",
      "_model_module_version": "1.2.0",
      "_model_name": "LayoutModel",
      "_view_count": null,
      "_view_module": "@jupyter-widgets/base",
      "_view_module_version": "1.2.0",
      "_view_name": "LayoutView",
      "align_content": null,
      "align_items": null,
      "align_self": null,
      "border": null,
      "bottom": null,
      "display": null,
      "flex": null,
      "flex_flow": null,
      "grid_area": null,
      "grid_auto_columns": null,
      "grid_auto_flow": null,
      "grid_auto_rows": null,
      "grid_column": null,
      "grid_gap": null,
      "grid_row": null,
      "grid_template_areas": null,
      "grid_template_columns": null,
      "grid_template_rows": null,
      "height": null,
      "justify_content": null,
      "justify_items": null,
      "left": null,
      "margin": null,
      "max_height": null,
      "max_width": null,
      "min_height": null,
      "min_width": null,
      "object_fit": null,
      "object_position": null,
      "order": null,
      "overflow": null,
      "overflow_x": null,
      "overflow_y": null,
      "padding": null,
      "right": null,
      "top": null,
      "visibility": null,
      "width": null
     }
    },
    "3fc28d41beea41859bf39a8317a48ca5": {
     "model_module": "@jupyter-widgets/base",
     "model_module_version": "1.2.0",
     "model_name": "LayoutModel",
     "state": {
      "_model_module": "@jupyter-widgets/base",
      "_model_module_version": "1.2.0",
      "_model_name": "LayoutModel",
      "_view_count": null,
      "_view_module": "@jupyter-widgets/base",
      "_view_module_version": "1.2.0",
      "_view_name": "LayoutView",
      "align_content": null,
      "align_items": null,
      "align_self": null,
      "border": null,
      "bottom": null,
      "display": null,
      "flex": null,
      "flex_flow": null,
      "grid_area": null,
      "grid_auto_columns": null,
      "grid_auto_flow": null,
      "grid_auto_rows": null,
      "grid_column": null,
      "grid_gap": null,
      "grid_row": null,
      "grid_template_areas": null,
      "grid_template_columns": null,
      "grid_template_rows": null,
      "height": null,
      "justify_content": null,
      "justify_items": null,
      "left": null,
      "margin": null,
      "max_height": null,
      "max_width": null,
      "min_height": null,
      "min_width": null,
      "object_fit": null,
      "object_position": null,
      "order": null,
      "overflow": null,
      "overflow_x": null,
      "overflow_y": null,
      "padding": null,
      "right": null,
      "top": null,
      "visibility": null,
      "width": null
     }
    },
    "40054b90e9f94cb09de8451521652b3a": {
     "model_module": "@jupyter-widgets/base",
     "model_module_version": "1.2.0",
     "model_name": "LayoutModel",
     "state": {
      "_model_module": "@jupyter-widgets/base",
      "_model_module_version": "1.2.0",
      "_model_name": "LayoutModel",
      "_view_count": null,
      "_view_module": "@jupyter-widgets/base",
      "_view_module_version": "1.2.0",
      "_view_name": "LayoutView",
      "align_content": null,
      "align_items": null,
      "align_self": null,
      "border": null,
      "bottom": null,
      "display": null,
      "flex": null,
      "flex_flow": null,
      "grid_area": null,
      "grid_auto_columns": null,
      "grid_auto_flow": null,
      "grid_auto_rows": null,
      "grid_column": null,
      "grid_gap": null,
      "grid_row": null,
      "grid_template_areas": null,
      "grid_template_columns": null,
      "grid_template_rows": null,
      "height": null,
      "justify_content": null,
      "justify_items": null,
      "left": null,
      "margin": null,
      "max_height": null,
      "max_width": null,
      "min_height": null,
      "min_width": null,
      "object_fit": null,
      "object_position": null,
      "order": null,
      "overflow": null,
      "overflow_x": null,
      "overflow_y": null,
      "padding": null,
      "right": null,
      "top": null,
      "visibility": null,
      "width": null
     }
    },
    "44eff54d7e50438e8e3697daed03da73": {
     "model_module": "@jupyter-widgets/base",
     "model_module_version": "1.2.0",
     "model_name": "LayoutModel",
     "state": {
      "_model_module": "@jupyter-widgets/base",
      "_model_module_version": "1.2.0",
      "_model_name": "LayoutModel",
      "_view_count": null,
      "_view_module": "@jupyter-widgets/base",
      "_view_module_version": "1.2.0",
      "_view_name": "LayoutView",
      "align_content": null,
      "align_items": null,
      "align_self": null,
      "border": null,
      "bottom": null,
      "display": null,
      "flex": null,
      "flex_flow": null,
      "grid_area": null,
      "grid_auto_columns": null,
      "grid_auto_flow": null,
      "grid_auto_rows": null,
      "grid_column": null,
      "grid_gap": null,
      "grid_row": null,
      "grid_template_areas": null,
      "grid_template_columns": null,
      "grid_template_rows": null,
      "height": null,
      "justify_content": null,
      "justify_items": null,
      "left": null,
      "margin": null,
      "max_height": null,
      "max_width": null,
      "min_height": null,
      "min_width": null,
      "object_fit": null,
      "object_position": null,
      "order": null,
      "overflow": null,
      "overflow_x": null,
      "overflow_y": null,
      "padding": null,
      "right": null,
      "top": null,
      "visibility": null,
      "width": null
     }
    },
    "46c047d8942f4485b6167f4c07f4f335": {
     "model_module": "@jupyter-widgets/controls",
     "model_module_version": "1.5.0",
     "model_name": "DescriptionStyleModel",
     "state": {
      "_model_module": "@jupyter-widgets/controls",
      "_model_module_version": "1.5.0",
      "_model_name": "DescriptionStyleModel",
      "_view_count": null,
      "_view_module": "@jupyter-widgets/base",
      "_view_module_version": "1.2.0",
      "_view_name": "StyleView",
      "description_width": ""
     }
    },
    "477bde3484c14e8eb297d8876fbed1a0": {
     "model_module": "@jupyter-widgets/base",
     "model_module_version": "1.2.0",
     "model_name": "LayoutModel",
     "state": {
      "_model_module": "@jupyter-widgets/base",
      "_model_module_version": "1.2.0",
      "_model_name": "LayoutModel",
      "_view_count": null,
      "_view_module": "@jupyter-widgets/base",
      "_view_module_version": "1.2.0",
      "_view_name": "LayoutView",
      "align_content": null,
      "align_items": null,
      "align_self": null,
      "border": null,
      "bottom": null,
      "display": null,
      "flex": null,
      "flex_flow": null,
      "grid_area": null,
      "grid_auto_columns": null,
      "grid_auto_flow": null,
      "grid_auto_rows": null,
      "grid_column": null,
      "grid_gap": null,
      "grid_row": null,
      "grid_template_areas": null,
      "grid_template_columns": null,
      "grid_template_rows": null,
      "height": null,
      "justify_content": null,
      "justify_items": null,
      "left": null,
      "margin": null,
      "max_height": null,
      "max_width": null,
      "min_height": null,
      "min_width": null,
      "object_fit": null,
      "object_position": null,
      "order": null,
      "overflow": null,
      "overflow_x": null,
      "overflow_y": null,
      "padding": null,
      "right": null,
      "top": null,
      "visibility": null,
      "width": null
     }
    },
    "6ae17dfbb7134c74aac11879a3113ce9": {
     "model_module": "@jupyter-widgets/base",
     "model_module_version": "1.2.0",
     "model_name": "LayoutModel",
     "state": {
      "_model_module": "@jupyter-widgets/base",
      "_model_module_version": "1.2.0",
      "_model_name": "LayoutModel",
      "_view_count": null,
      "_view_module": "@jupyter-widgets/base",
      "_view_module_version": "1.2.0",
      "_view_name": "LayoutView",
      "align_content": null,
      "align_items": null,
      "align_self": null,
      "border": null,
      "bottom": null,
      "display": null,
      "flex": null,
      "flex_flow": null,
      "grid_area": null,
      "grid_auto_columns": null,
      "grid_auto_flow": null,
      "grid_auto_rows": null,
      "grid_column": null,
      "grid_gap": null,
      "grid_row": null,
      "grid_template_areas": null,
      "grid_template_columns": null,
      "grid_template_rows": null,
      "height": null,
      "justify_content": null,
      "justify_items": null,
      "left": null,
      "margin": null,
      "max_height": null,
      "max_width": null,
      "min_height": null,
      "min_width": null,
      "object_fit": null,
      "object_position": null,
      "order": null,
      "overflow": null,
      "overflow_x": null,
      "overflow_y": null,
      "padding": null,
      "right": null,
      "top": null,
      "visibility": null,
      "width": null
     }
    },
    "732246db5c624669b484dd804976802d": {
     "model_module": "@jupyter-widgets/controls",
     "model_module_version": "1.5.0",
     "model_name": "DescriptionStyleModel",
     "state": {
      "_model_module": "@jupyter-widgets/controls",
      "_model_module_version": "1.5.0",
      "_model_name": "DescriptionStyleModel",
      "_view_count": null,
      "_view_module": "@jupyter-widgets/base",
      "_view_module_version": "1.2.0",
      "_view_name": "StyleView",
      "description_width": ""
     }
    },
    "7e5cf0b6ee694d65878dfed56fedf67b": {
     "model_module": "@jupyter-widgets/controls",
     "model_module_version": "1.5.0",
     "model_name": "HTMLModel",
     "state": {
      "_dom_classes": [],
      "_model_module": "@jupyter-widgets/controls",
      "_model_module_version": "1.5.0",
      "_model_name": "HTMLModel",
      "_view_count": null,
      "_view_module": "@jupyter-widgets/controls",
      "_view_module_version": "1.5.0",
      "_view_name": "HTMLView",
      "description": "",
      "description_tooltip": null,
      "layout": "IPY_MODEL_e08590e89bb1435a8299ef997381d8e7",
      "placeholder": "​",
      "style": "IPY_MODEL_04f354d798e34291829e1e1e0dfc9b18",
      "value": " 301/301 [05:41&lt;00:00,  1.07s/it]"
     }
    },
    "8a3e254483f84030a1252161e5583d00": {
     "model_module": "@jupyter-widgets/controls",
     "model_module_version": "1.5.0",
     "model_name": "HBoxModel",
     "state": {
      "_dom_classes": [],
      "_model_module": "@jupyter-widgets/controls",
      "_model_module_version": "1.5.0",
      "_model_name": "HBoxModel",
      "_view_count": null,
      "_view_module": "@jupyter-widgets/controls",
      "_view_module_version": "1.5.0",
      "_view_name": "HBoxView",
      "box_style": "",
      "children": [
       "IPY_MODEL_0e691130e771489ea1d2225d25f2be99",
       "IPY_MODEL_bc36818662fb484db0af5bfa2db6096a",
       "IPY_MODEL_7e5cf0b6ee694d65878dfed56fedf67b"
      ],
      "layout": "IPY_MODEL_cdf449044c0c4be1bbba403af4a90a05"
     }
    },
    "8b7dd837fb724eac819aa39e21deba81": {
     "model_module": "@jupyter-widgets/controls",
     "model_module_version": "1.5.0",
     "model_name": "HTMLModel",
     "state": {
      "_dom_classes": [],
      "_model_module": "@jupyter-widgets/controls",
      "_model_module_version": "1.5.0",
      "_model_name": "HTMLModel",
      "_view_count": null,
      "_view_module": "@jupyter-widgets/controls",
      "_view_module_version": "1.5.0",
      "_view_name": "HTMLView",
      "description": "",
      "description_tooltip": null,
      "layout": "IPY_MODEL_40054b90e9f94cb09de8451521652b3a",
      "placeholder": "​",
      "style": "IPY_MODEL_ded71aebeb4e49699d953f97a844bf63",
      "value": "Extracting Test Features: 100%"
     }
    },
    "9389d0724a674027bb2637f96db98e75": {
     "model_module": "@jupyter-widgets/controls",
     "model_module_version": "1.5.0",
     "model_name": "HTMLModel",
     "state": {
      "_dom_classes": [],
      "_model_module": "@jupyter-widgets/controls",
      "_model_module_version": "1.5.0",
      "_model_name": "HTMLModel",
      "_view_count": null,
      "_view_module": "@jupyter-widgets/controls",
      "_view_module_version": "1.5.0",
      "_view_name": "HTMLView",
      "description": "",
      "description_tooltip": null,
      "layout": "IPY_MODEL_b8609b57672d410a9a76be64b2deefa8",
      "placeholder": "​",
      "style": "IPY_MODEL_c0723817470741faa8930865a7091797",
      "value": " 542/542 [07:57&lt;00:00,  1.27it/s]"
     }
    },
    "95644e32a7fe4463888c60db70967e9f": {
     "model_module": "@jupyter-widgets/base",
     "model_module_version": "1.2.0",
     "model_name": "LayoutModel",
     "state": {
      "_model_module": "@jupyter-widgets/base",
      "_model_module_version": "1.2.0",
      "_model_name": "LayoutModel",
      "_view_count": null,
      "_view_module": "@jupyter-widgets/base",
      "_view_module_version": "1.2.0",
      "_view_name": "LayoutView",
      "align_content": null,
      "align_items": null,
      "align_self": null,
      "border": null,
      "bottom": null,
      "display": null,
      "flex": null,
      "flex_flow": null,
      "grid_area": null,
      "grid_auto_columns": null,
      "grid_auto_flow": null,
      "grid_auto_rows": null,
      "grid_column": null,
      "grid_gap": null,
      "grid_row": null,
      "grid_template_areas": null,
      "grid_template_columns": null,
      "grid_template_rows": null,
      "height": null,
      "justify_content": null,
      "justify_items": null,
      "left": null,
      "margin": null,
      "max_height": null,
      "max_width": null,
      "min_height": null,
      "min_width": null,
      "object_fit": null,
      "object_position": null,
      "order": null,
      "overflow": null,
      "overflow_x": null,
      "overflow_y": null,
      "padding": null,
      "right": null,
      "top": null,
      "visibility": null,
      "width": null
     }
    },
    "a359815850db4d8aa09cd405666ed6e7": {
     "model_module": "@jupyter-widgets/controls",
     "model_module_version": "1.5.0",
     "model_name": "HBoxModel",
     "state": {
      "_dom_classes": [],
      "_model_module": "@jupyter-widgets/controls",
      "_model_module_version": "1.5.0",
      "_model_name": "HBoxModel",
      "_view_count": null,
      "_view_module": "@jupyter-widgets/controls",
      "_view_module_version": "1.5.0",
      "_view_name": "HBoxView",
      "box_style": "",
      "children": [
       "IPY_MODEL_8b7dd837fb724eac819aa39e21deba81",
       "IPY_MODEL_fc6f72d2c1904a70a2df55047cf7e982",
       "IPY_MODEL_9389d0724a674027bb2637f96db98e75"
      ],
      "layout": "IPY_MODEL_477bde3484c14e8eb297d8876fbed1a0"
     }
    },
    "b8609b57672d410a9a76be64b2deefa8": {
     "model_module": "@jupyter-widgets/base",
     "model_module_version": "1.2.0",
     "model_name": "LayoutModel",
     "state": {
      "_model_module": "@jupyter-widgets/base",
      "_model_module_version": "1.2.0",
      "_model_name": "LayoutModel",
      "_view_count": null,
      "_view_module": "@jupyter-widgets/base",
      "_view_module_version": "1.2.0",
      "_view_name": "LayoutView",
      "align_content": null,
      "align_items": null,
      "align_self": null,
      "border": null,
      "bottom": null,
      "display": null,
      "flex": null,
      "flex_flow": null,
      "grid_area": null,
      "grid_auto_columns": null,
      "grid_auto_flow": null,
      "grid_auto_rows": null,
      "grid_column": null,
      "grid_gap": null,
      "grid_row": null,
      "grid_template_areas": null,
      "grid_template_columns": null,
      "grid_template_rows": null,
      "height": null,
      "justify_content": null,
      "justify_items": null,
      "left": null,
      "margin": null,
      "max_height": null,
      "max_width": null,
      "min_height": null,
      "min_width": null,
      "object_fit": null,
      "object_position": null,
      "order": null,
      "overflow": null,
      "overflow_x": null,
      "overflow_y": null,
      "padding": null,
      "right": null,
      "top": null,
      "visibility": null,
      "width": null
     }
    },
    "bc36818662fb484db0af5bfa2db6096a": {
     "model_module": "@jupyter-widgets/controls",
     "model_module_version": "1.5.0",
     "model_name": "FloatProgressModel",
     "state": {
      "_dom_classes": [],
      "_model_module": "@jupyter-widgets/controls",
      "_model_module_version": "1.5.0",
      "_model_name": "FloatProgressModel",
      "_view_count": null,
      "_view_module": "@jupyter-widgets/controls",
      "_view_module_version": "1.5.0",
      "_view_name": "ProgressView",
      "bar_style": "success",
      "description": "",
      "description_tooltip": null,
      "layout": "IPY_MODEL_2b43911ea8e143fb8e84d4ed305f78e0",
      "max": 301,
      "min": 0,
      "orientation": "horizontal",
      "style": "IPY_MODEL_13b29899100f4d089f1a3de2baa77fb1",
      "value": 301
     }
    },
    "c0723817470741faa8930865a7091797": {
     "model_module": "@jupyter-widgets/controls",
     "model_module_version": "1.5.0",
     "model_name": "DescriptionStyleModel",
     "state": {
      "_model_module": "@jupyter-widgets/controls",
      "_model_module_version": "1.5.0",
      "_model_name": "DescriptionStyleModel",
      "_view_count": null,
      "_view_module": "@jupyter-widgets/base",
      "_view_module_version": "1.2.0",
      "_view_name": "StyleView",
      "description_width": ""
     }
    },
    "c8b24b787ac8434992a6244d76caf323": {
     "model_module": "@jupyter-widgets/base",
     "model_module_version": "1.2.0",
     "model_name": "LayoutModel",
     "state": {
      "_model_module": "@jupyter-widgets/base",
      "_model_module_version": "1.2.0",
      "_model_name": "LayoutModel",
      "_view_count": null,
      "_view_module": "@jupyter-widgets/base",
      "_view_module_version": "1.2.0",
      "_view_name": "LayoutView",
      "align_content": null,
      "align_items": null,
      "align_self": null,
      "border": null,
      "bottom": null,
      "display": null,
      "flex": null,
      "flex_flow": null,
      "grid_area": null,
      "grid_auto_columns": null,
      "grid_auto_flow": null,
      "grid_auto_rows": null,
      "grid_column": null,
      "grid_gap": null,
      "grid_row": null,
      "grid_template_areas": null,
      "grid_template_columns": null,
      "grid_template_rows": null,
      "height": null,
      "justify_content": null,
      "justify_items": null,
      "left": null,
      "margin": null,
      "max_height": null,
      "max_width": null,
      "min_height": null,
      "min_width": null,
      "object_fit": null,
      "object_position": null,
      "order": null,
      "overflow": null,
      "overflow_x": null,
      "overflow_y": null,
      "padding": null,
      "right": null,
      "top": null,
      "visibility": null,
      "width": null
     }
    },
    "cdf449044c0c4be1bbba403af4a90a05": {
     "model_module": "@jupyter-widgets/base",
     "model_module_version": "1.2.0",
     "model_name": "LayoutModel",
     "state": {
      "_model_module": "@jupyter-widgets/base",
      "_model_module_version": "1.2.0",
      "_model_name": "LayoutModel",
      "_view_count": null,
      "_view_module": "@jupyter-widgets/base",
      "_view_module_version": "1.2.0",
      "_view_name": "LayoutView",
      "align_content": null,
      "align_items": null,
      "align_self": null,
      "border": null,
      "bottom": null,
      "display": null,
      "flex": null,
      "flex_flow": null,
      "grid_area": null,
      "grid_auto_columns": null,
      "grid_auto_flow": null,
      "grid_auto_rows": null,
      "grid_column": null,
      "grid_gap": null,
      "grid_row": null,
      "grid_template_areas": null,
      "grid_template_columns": null,
      "grid_template_rows": null,
      "height": null,
      "justify_content": null,
      "justify_items": null,
      "left": null,
      "margin": null,
      "max_height": null,
      "max_width": null,
      "min_height": null,
      "min_width": null,
      "object_fit": null,
      "object_position": null,
      "order": null,
      "overflow": null,
      "overflow_x": null,
      "overflow_y": null,
      "padding": null,
      "right": null,
      "top": null,
      "visibility": null,
      "width": null
     }
    },
    "db343110be764ba6b2038fe8a4728c52": {
     "model_module": "@jupyter-widgets/controls",
     "model_module_version": "1.5.0",
     "model_name": "ProgressStyleModel",
     "state": {
      "_model_module": "@jupyter-widgets/controls",
      "_model_module_version": "1.5.0",
      "_model_name": "ProgressStyleModel",
      "_view_count": null,
      "_view_module": "@jupyter-widgets/base",
      "_view_module_version": "1.2.0",
      "_view_name": "StyleView",
      "bar_color": null,
      "description_width": ""
     }
    },
    "ded71aebeb4e49699d953f97a844bf63": {
     "model_module": "@jupyter-widgets/controls",
     "model_module_version": "1.5.0",
     "model_name": "DescriptionStyleModel",
     "state": {
      "_model_module": "@jupyter-widgets/controls",
      "_model_module_version": "1.5.0",
      "_model_name": "DescriptionStyleModel",
      "_view_count": null,
      "_view_module": "@jupyter-widgets/base",
      "_view_module_version": "1.2.0",
      "_view_name": "StyleView",
      "description_width": ""
     }
    },
    "e08590e89bb1435a8299ef997381d8e7": {
     "model_module": "@jupyter-widgets/base",
     "model_module_version": "1.2.0",
     "model_name": "LayoutModel",
     "state": {
      "_model_module": "@jupyter-widgets/base",
      "_model_module_version": "1.2.0",
      "_model_name": "LayoutModel",
      "_view_count": null,
      "_view_module": "@jupyter-widgets/base",
      "_view_module_version": "1.2.0",
      "_view_name": "LayoutView",
      "align_content": null,
      "align_items": null,
      "align_self": null,
      "border": null,
      "bottom": null,
      "display": null,
      "flex": null,
      "flex_flow": null,
      "grid_area": null,
      "grid_auto_columns": null,
      "grid_auto_flow": null,
      "grid_auto_rows": null,
      "grid_column": null,
      "grid_gap": null,
      "grid_row": null,
      "grid_template_areas": null,
      "grid_template_columns": null,
      "grid_template_rows": null,
      "height": null,
      "justify_content": null,
      "justify_items": null,
      "left": null,
      "margin": null,
      "max_height": null,
      "max_width": null,
      "min_height": null,
      "min_width": null,
      "object_fit": null,
      "object_position": null,
      "order": null,
      "overflow": null,
      "overflow_x": null,
      "overflow_y": null,
      "padding": null,
      "right": null,
      "top": null,
      "visibility": null,
      "width": null
     }
    },
    "e13404ead2774689a351966d48d27e8a": {
     "model_module": "@jupyter-widgets/controls",
     "model_module_version": "1.5.0",
     "model_name": "FloatProgressModel",
     "state": {
      "_dom_classes": [],
      "_model_module": "@jupyter-widgets/controls",
      "_model_module_version": "1.5.0",
      "_model_name": "FloatProgressModel",
      "_view_count": null,
      "_view_module": "@jupyter-widgets/controls",
      "_view_module_version": "1.5.0",
      "_view_name": "ProgressView",
      "bar_style": "success",
      "description": "",
      "description_tooltip": null,
      "layout": "IPY_MODEL_ea0d580417fd4dcbad6fa07a914047ed",
      "max": 2165,
      "min": 0,
      "orientation": "horizontal",
      "style": "IPY_MODEL_1c57d02947dd4de399a83c90862deccb",
      "value": 2165
     }
    },
    "ea0d580417fd4dcbad6fa07a914047ed": {
     "model_module": "@jupyter-widgets/base",
     "model_module_version": "1.2.0",
     "model_name": "LayoutModel",
     "state": {
      "_model_module": "@jupyter-widgets/base",
      "_model_module_version": "1.2.0",
      "_model_name": "LayoutModel",
      "_view_count": null,
      "_view_module": "@jupyter-widgets/base",
      "_view_module_version": "1.2.0",
      "_view_name": "LayoutView",
      "align_content": null,
      "align_items": null,
      "align_self": null,
      "border": null,
      "bottom": null,
      "display": null,
      "flex": null,
      "flex_flow": null,
      "grid_area": null,
      "grid_auto_columns": null,
      "grid_auto_flow": null,
      "grid_auto_rows": null,
      "grid_column": null,
      "grid_gap": null,
      "grid_row": null,
      "grid_template_areas": null,
      "grid_template_columns": null,
      "grid_template_rows": null,
      "height": null,
      "justify_content": null,
      "justify_items": null,
      "left": null,
      "margin": null,
      "max_height": null,
      "max_width": null,
      "min_height": null,
      "min_width": null,
      "object_fit": null,
      "object_position": null,
      "order": null,
      "overflow": null,
      "overflow_x": null,
      "overflow_y": null,
      "padding": null,
      "right": null,
      "top": null,
      "visibility": null,
      "width": null
     }
    },
    "fc6f72d2c1904a70a2df55047cf7e982": {
     "model_module": "@jupyter-widgets/controls",
     "model_module_version": "1.5.0",
     "model_name": "FloatProgressModel",
     "state": {
      "_dom_classes": [],
      "_model_module": "@jupyter-widgets/controls",
      "_model_module_version": "1.5.0",
      "_model_name": "FloatProgressModel",
      "_view_count": null,
      "_view_module": "@jupyter-widgets/controls",
      "_view_module_version": "1.5.0",
      "_view_name": "ProgressView",
      "bar_style": "success",
      "description": "",
      "description_tooltip": null,
      "layout": "IPY_MODEL_95644e32a7fe4463888c60db70967e9f",
      "max": 542,
      "min": 0,
      "orientation": "horizontal",
      "style": "IPY_MODEL_db343110be764ba6b2038fe8a4728c52",
      "value": 542
     }
    },
    "fef3fd80943d4cf08dd705007a54a298": {
     "model_module": "@jupyter-widgets/controls",
     "model_module_version": "1.5.0",
     "model_name": "HTMLModel",
     "state": {
      "_dom_classes": [],
      "_model_module": "@jupyter-widgets/controls",
      "_model_module_version": "1.5.0",
      "_model_name": "HTMLModel",
      "_view_count": null,
      "_view_module": "@jupyter-widgets/controls",
      "_view_module_version": "1.5.0",
      "_view_name": "HTMLView",
      "description": "",
      "description_tooltip": null,
      "layout": "IPY_MODEL_6ae17dfbb7134c74aac11879a3113ce9",
      "placeholder": "​",
      "style": "IPY_MODEL_2a1ef9c3c0894bafbb3bcfbc41a02ec9",
      "value": " 2165/2165 [31:50&lt;00:00,  1.20it/s]"
     }
    }
   }
  }
 },
 "nbformat": 4,
 "nbformat_minor": 0
}
